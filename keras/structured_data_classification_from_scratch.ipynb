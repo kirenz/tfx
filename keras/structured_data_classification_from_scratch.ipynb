{
  "cells": [
    {
      "cell_type": "markdown",
      "metadata": {
        "id": "-iNtJdvrb_vd"
      },
      "source": [
        "# Structured data classification from scratch\n",
        "\n",
        "**Author:** [fchollet](https://twitter.com/fchollet)<br>\n",
        "**Date created:** 2020/06/09<br>\n",
        "**Last modified:** 2020/06/09<br>\n",
        "**Description:** Binary classification of structured data including numerical and categorical features."
      ]
    },
    {
      "cell_type": "markdown",
      "metadata": {
        "id": "8CCfeE45b_vi"
      },
      "source": [
        "## Introduction\n",
        "\n",
        "This example demonstrates how to do structured data classification, starting from a raw\n",
        "CSV file. Our data includes both numerical and categorical features. We will use Keras\n",
        "preprocessing layers to normalize the numerical features and vectorize the categorical\n",
        "ones.\n",
        "\n",
        "Note that this example should be run with TensorFlow 2.5 or higher.\n",
        "\n",
        "### The dataset\n",
        "\n",
        "[Our dataset](https://archive.ics.uci.edu/ml/datasets/heart+Disease) is provided by the\n",
        "Cleveland Clinic Foundation for Heart Disease.\n",
        "It's a CSV file with 303 rows. Each row contains information about a patient (a\n",
        "**sample**), and each column describes an attribute of the patient (a **feature**). We\n",
        "use the features to predict whether a patient has a heart disease (**binary\n",
        "classification**).\n",
        "\n",
        "Here's the description of each feature:\n",
        "\n",
        "Column| Description| Feature Type\n",
        "------------|--------------------|----------------------\n",
        "Age | Age in years | Numerical\n",
        "Sex | (1 = male; 0 = female) | Categorical\n",
        "CP | Chest pain type (0, 1, 2, 3, 4) | Categorical\n",
        "Trestbpd | Resting blood pressure (in mm Hg on admission) | Numerical\n",
        "Chol | Serum cholesterol in mg/dl | Numerical\n",
        "FBS | fasting blood sugar in 120 mg/dl (1 = true; 0 = false) | Categorical\n",
        "RestECG | Resting electrocardiogram results (0, 1, 2) | Categorical\n",
        "Thalach | Maximum heart rate achieved | Numerical\n",
        "Exang | Exercise induced angina (1 = yes; 0 = no) | Categorical\n",
        "Oldpeak | ST depression induced by exercise relative to rest | Numerical\n",
        "Slope | Slope of the peak exercise ST segment | Numerical\n",
        "CA | Number of major vessels (0-3) colored by fluoroscopy | Both numerical & categorical\n",
        "Thal | 3 = normal; 6 = fixed defect; 7 = reversible defect | Categorical\n",
        "Target | Diagnosis of heart disease (1 = true; 0 = false) | Target"
      ]
    },
    {
      "cell_type": "markdown",
      "metadata": {
        "id": "qAbd3kbsb_vj"
      },
      "source": [
        "## Setup"
      ]
    },
    {
      "cell_type": "code",
      "execution_count": 1,
      "metadata": {
        "id": "aubhVbfWb_vk"
      },
      "outputs": [],
      "source": [
        "import tensorflow as tf\n",
        "import numpy as np\n",
        "import pandas as pd\n",
        "from tensorflow import keras\n",
        "from tensorflow.keras import layers"
      ]
    },
    {
      "cell_type": "markdown",
      "metadata": {
        "id": "RzNNij6qb_vl"
      },
      "source": [
        "## Preparing the data\n",
        "\n",
        "Let's download the data and load it into a Pandas dataframe:"
      ]
    },
    {
      "cell_type": "code",
      "execution_count": 2,
      "metadata": {
        "id": "EId7MS20b_vm"
      },
      "outputs": [],
      "source": [
        "file_url = \"http://storage.googleapis.com/download.tensorflow.org/data/heart.csv\"\n",
        "dataframe = pd.read_csv(file_url)"
      ]
    },
    {
      "cell_type": "markdown",
      "metadata": {
        "id": "ao0iPbeFb_vn"
      },
      "source": [
        "The dataset includes 303 samples with 14 columns per sample (13 features, plus the target\n",
        "label):"
      ]
    },
    {
      "cell_type": "code",
      "execution_count": 3,
      "metadata": {
        "id": "pORrkaefb_vn"
      },
      "outputs": [
        {
          "data": {
            "text/plain": [
              "(303, 14)"
            ]
          },
          "execution_count": 3,
          "metadata": {},
          "output_type": "execute_result"
        }
      ],
      "source": [
        "dataframe.shape"
      ]
    },
    {
      "cell_type": "markdown",
      "metadata": {
        "id": "XaRl1q_ib_vo"
      },
      "source": [
        "Here's a preview of a few samples:"
      ]
    },
    {
      "cell_type": "code",
      "execution_count": 4,
      "metadata": {
        "id": "zW3GlXdWb_vo"
      },
      "outputs": [
        {
          "data": {
            "text/html": [
              "<div>\n",
              "<style scoped>\n",
              "    .dataframe tbody tr th:only-of-type {\n",
              "        vertical-align: middle;\n",
              "    }\n",
              "\n",
              "    .dataframe tbody tr th {\n",
              "        vertical-align: top;\n",
              "    }\n",
              "\n",
              "    .dataframe thead th {\n",
              "        text-align: right;\n",
              "    }\n",
              "</style>\n",
              "<table border=\"1\" class=\"dataframe\">\n",
              "  <thead>\n",
              "    <tr style=\"text-align: right;\">\n",
              "      <th></th>\n",
              "      <th>age</th>\n",
              "      <th>sex</th>\n",
              "      <th>cp</th>\n",
              "      <th>trestbps</th>\n",
              "      <th>chol</th>\n",
              "      <th>fbs</th>\n",
              "      <th>restecg</th>\n",
              "      <th>thalach</th>\n",
              "      <th>exang</th>\n",
              "      <th>oldpeak</th>\n",
              "      <th>slope</th>\n",
              "      <th>ca</th>\n",
              "      <th>thal</th>\n",
              "      <th>target</th>\n",
              "    </tr>\n",
              "  </thead>\n",
              "  <tbody>\n",
              "    <tr>\n",
              "      <th>0</th>\n",
              "      <td>63</td>\n",
              "      <td>1</td>\n",
              "      <td>1</td>\n",
              "      <td>145</td>\n",
              "      <td>233</td>\n",
              "      <td>1</td>\n",
              "      <td>2</td>\n",
              "      <td>150</td>\n",
              "      <td>0</td>\n",
              "      <td>2.3</td>\n",
              "      <td>3</td>\n",
              "      <td>0</td>\n",
              "      <td>fixed</td>\n",
              "      <td>0</td>\n",
              "    </tr>\n",
              "    <tr>\n",
              "      <th>1</th>\n",
              "      <td>67</td>\n",
              "      <td>1</td>\n",
              "      <td>4</td>\n",
              "      <td>160</td>\n",
              "      <td>286</td>\n",
              "      <td>0</td>\n",
              "      <td>2</td>\n",
              "      <td>108</td>\n",
              "      <td>1</td>\n",
              "      <td>1.5</td>\n",
              "      <td>2</td>\n",
              "      <td>3</td>\n",
              "      <td>normal</td>\n",
              "      <td>1</td>\n",
              "    </tr>\n",
              "    <tr>\n",
              "      <th>2</th>\n",
              "      <td>67</td>\n",
              "      <td>1</td>\n",
              "      <td>4</td>\n",
              "      <td>120</td>\n",
              "      <td>229</td>\n",
              "      <td>0</td>\n",
              "      <td>2</td>\n",
              "      <td>129</td>\n",
              "      <td>1</td>\n",
              "      <td>2.6</td>\n",
              "      <td>2</td>\n",
              "      <td>2</td>\n",
              "      <td>reversible</td>\n",
              "      <td>0</td>\n",
              "    </tr>\n",
              "    <tr>\n",
              "      <th>3</th>\n",
              "      <td>37</td>\n",
              "      <td>1</td>\n",
              "      <td>3</td>\n",
              "      <td>130</td>\n",
              "      <td>250</td>\n",
              "      <td>0</td>\n",
              "      <td>0</td>\n",
              "      <td>187</td>\n",
              "      <td>0</td>\n",
              "      <td>3.5</td>\n",
              "      <td>3</td>\n",
              "      <td>0</td>\n",
              "      <td>normal</td>\n",
              "      <td>0</td>\n",
              "    </tr>\n",
              "    <tr>\n",
              "      <th>4</th>\n",
              "      <td>41</td>\n",
              "      <td>0</td>\n",
              "      <td>2</td>\n",
              "      <td>130</td>\n",
              "      <td>204</td>\n",
              "      <td>0</td>\n",
              "      <td>2</td>\n",
              "      <td>172</td>\n",
              "      <td>0</td>\n",
              "      <td>1.4</td>\n",
              "      <td>1</td>\n",
              "      <td>0</td>\n",
              "      <td>normal</td>\n",
              "      <td>0</td>\n",
              "    </tr>\n",
              "  </tbody>\n",
              "</table>\n",
              "</div>"
            ],
            "text/plain": [
              "   age  sex  cp  trestbps  chol  fbs  restecg  thalach  exang  oldpeak  slope  \\\n",
              "0   63    1   1       145   233    1        2      150      0      2.3      3   \n",
              "1   67    1   4       160   286    0        2      108      1      1.5      2   \n",
              "2   67    1   4       120   229    0        2      129      1      2.6      2   \n",
              "3   37    1   3       130   250    0        0      187      0      3.5      3   \n",
              "4   41    0   2       130   204    0        2      172      0      1.4      1   \n",
              "\n",
              "   ca        thal  target  \n",
              "0   0       fixed       0  \n",
              "1   3      normal       1  \n",
              "2   2  reversible       0  \n",
              "3   0      normal       0  \n",
              "4   0      normal       0  "
            ]
          },
          "execution_count": 4,
          "metadata": {},
          "output_type": "execute_result"
        }
      ],
      "source": [
        "dataframe.head()"
      ]
    },
    {
      "cell_type": "markdown",
      "metadata": {
        "id": "OzCeAJ0sb_vp"
      },
      "source": [
        "The last column, \"target\", indicates whether the patient has a heart disease (1) or not\n",
        "(0).\n",
        "\n",
        "Let's split the data into a training and validation set:"
      ]
    },
    {
      "cell_type": "code",
      "execution_count": 5,
      "metadata": {
        "id": "OFSnqGOPb_vp"
      },
      "outputs": [
        {
          "name": "stdout",
          "output_type": "stream",
          "text": [
            "Using 242 samples for training and 61 for validation\n"
          ]
        }
      ],
      "source": [
        "val_dataframe = dataframe.sample(frac=0.2, random_state=1337)\n",
        "train_dataframe = dataframe.drop(val_dataframe.index)\n",
        "\n",
        "print(\n",
        "    \"Using %d samples for training and %d for validation\"\n",
        "    % (len(train_dataframe), len(val_dataframe))\n",
        ")"
      ]
    },
    {
      "cell_type": "markdown",
      "metadata": {
        "id": "2B4a8d8ab_vq"
      },
      "source": [
        "Let's generate `tf.data.Dataset` objects for each dataframe:"
      ]
    },
    {
      "cell_type": "code",
      "execution_count": 6,
      "metadata": {
        "id": "NXclBW3Cb_vq"
      },
      "outputs": [
        {
          "name": "stderr",
          "output_type": "stream",
          "text": [
            "2022-03-31 21:34:27.699425: I tensorflow/core/platform/cpu_feature_guard.cc:151] This TensorFlow binary is optimized with oneAPI Deep Neural Network Library (oneDNN) to use the following CPU instructions in performance-critical operations:  AVX2 FMA\n",
            "To enable them in other operations, rebuild TensorFlow with the appropriate compiler flags.\n"
          ]
        }
      ],
      "source": [
        "\n",
        "def dataframe_to_dataset(dataframe):\n",
        "    dataframe = dataframe.copy()\n",
        "    labels = dataframe.pop(\"target\")\n",
        "    ds = tf.data.Dataset.from_tensor_slices((dict(dataframe), labels))\n",
        "    ds = ds.shuffle(buffer_size=len(dataframe))\n",
        "    return ds\n",
        "\n",
        "\n",
        "train_ds = dataframe_to_dataset(train_dataframe)\n",
        "val_ds = dataframe_to_dataset(val_dataframe)"
      ]
    },
    {
      "cell_type": "markdown",
      "metadata": {
        "id": "jzKGzjs0b_vq"
      },
      "source": [
        "Each `Dataset` yields a tuple `(input, target)` where `input` is a dictionary of features\n",
        "and `target` is the value `0` or `1`:"
      ]
    },
    {
      "cell_type": "code",
      "execution_count": 7,
      "metadata": {
        "id": "GOj1-dsZb_vr"
      },
      "outputs": [
        {
          "name": "stdout",
          "output_type": "stream",
          "text": [
            "Input: {'age': <tf.Tensor: shape=(), dtype=int64, numpy=68>, 'sex': <tf.Tensor: shape=(), dtype=int64, numpy=0>, 'cp': <tf.Tensor: shape=(), dtype=int64, numpy=3>, 'trestbps': <tf.Tensor: shape=(), dtype=int64, numpy=120>, 'chol': <tf.Tensor: shape=(), dtype=int64, numpy=211>, 'fbs': <tf.Tensor: shape=(), dtype=int64, numpy=0>, 'restecg': <tf.Tensor: shape=(), dtype=int64, numpy=2>, 'thalach': <tf.Tensor: shape=(), dtype=int64, numpy=115>, 'exang': <tf.Tensor: shape=(), dtype=int64, numpy=0>, 'oldpeak': <tf.Tensor: shape=(), dtype=float64, numpy=1.5>, 'slope': <tf.Tensor: shape=(), dtype=int64, numpy=2>, 'ca': <tf.Tensor: shape=(), dtype=int64, numpy=0>, 'thal': <tf.Tensor: shape=(), dtype=string, numpy=b'normal'>}\n",
            "Target: tf.Tensor(0, shape=(), dtype=int64)\n"
          ]
        }
      ],
      "source": [
        "for x, y in train_ds.take(1):\n",
        "    print(\"Input:\", x)\n",
        "    print(\"Target:\", y)"
      ]
    },
    {
      "cell_type": "markdown",
      "metadata": {
        "id": "_2Q5DVC0b_vr"
      },
      "source": [
        "Let's batch the datasets:"
      ]
    },
    {
      "cell_type": "code",
      "execution_count": 8,
      "metadata": {
        "id": "Ccngwlq_b_vr"
      },
      "outputs": [],
      "source": [
        "train_ds = train_ds.batch(32)\n",
        "val_ds = val_ds.batch(32)"
      ]
    },
    {
      "cell_type": "markdown",
      "metadata": {
        "id": "AWVbzdlob_vs"
      },
      "source": [
        "## Feature preprocessing with Keras layers\n",
        "\n",
        "\n",
        "The following features are categorical features encoded as integers:\n",
        "\n",
        "- `sex`\n",
        "- `cp`\n",
        "- `fbs`\n",
        "- `restecg`\n",
        "- `exang`\n",
        "- `ca`\n",
        "\n",
        "We will encode these features using **one-hot encoding**. We have two options\n",
        "here:\n",
        "\n",
        " - Use `CategoryEncoding()`, which requires knowing the range of input values\n",
        " and will error on input outside the range.\n",
        " - Use `IntegerLookup()` which will build a lookup table for inputs and reserve\n",
        " an output index for unkown input values.\n",
        "\n",
        "For this example, we want a simple solution that will handle out of range inputs\n",
        "at inference, so we will use `IntegerLookup()`.\n",
        "\n",
        "We also have a categorical feature encoded as a string: `thal`. We will create an\n",
        "index of all possible features and encode output using the `StringLookup()` layer.\n",
        "\n",
        "Finally, the following feature are continuous numerical features:\n",
        "\n",
        "- `age`\n",
        "- `trestbps`\n",
        "- `chol`\n",
        "- `thalach`\n",
        "- `oldpeak`\n",
        "- `slope`\n",
        "\n",
        "For each of these features, we will use a `Normalization()` layer to make sure the mean\n",
        "of each feature is 0 and its standard deviation is 1.\n",
        "\n",
        "Below, we define 3 utility functions to do the operations:\n",
        "\n",
        "- `encode_numerical_feature` to apply featurewise normalization to numerical features.\n",
        "- `encode_string_categorical_feature` to first turn string inputs into integer indices,\n",
        "then one-hot encode these integer indices.\n",
        "- `encode_integer_categorical_feature` to one-hot encode integer categorical features."
      ]
    },
    {
      "cell_type": "code",
      "execution_count": 9,
      "metadata": {
        "id": "cPnUDwDwb_vs"
      },
      "outputs": [],
      "source": [
        "from tensorflow.keras.layers import IntegerLookup\n",
        "from tensorflow.keras.layers import Normalization\n",
        "from tensorflow.keras.layers import StringLookup\n",
        "\n",
        "\n",
        "def encode_numerical_feature(feature, name, dataset):\n",
        "    # Create a Normalization layer for our feature\n",
        "    normalizer = Normalization()\n",
        "\n",
        "    # Prepare a Dataset that only yields our feature\n",
        "    feature_ds = dataset.map(lambda x, y: x[name])\n",
        "    feature_ds = feature_ds.map(lambda x: tf.expand_dims(x, -1))\n",
        "\n",
        "    # Learn the statistics of the data\n",
        "    normalizer.adapt(feature_ds)\n",
        "\n",
        "    # Normalize the input feature\n",
        "    encoded_feature = normalizer(feature)\n",
        "    return encoded_feature\n",
        "\n",
        "\n",
        "def encode_categorical_feature(feature, name, dataset, is_string):\n",
        "    lookup_class = StringLookup if is_string else IntegerLookup\n",
        "    # Create a lookup layer which will turn strings into integer indices\n",
        "    lookup = lookup_class(output_mode=\"binary\")\n",
        "\n",
        "    # Prepare a Dataset that only yields our feature\n",
        "    feature_ds = dataset.map(lambda x, y: x[name])\n",
        "    feature_ds = feature_ds.map(lambda x: tf.expand_dims(x, -1))\n",
        "\n",
        "    # Learn the set of possible string values and assign them a fixed integer index\n",
        "    lookup.adapt(feature_ds)\n",
        "\n",
        "    # Turn the string input into integer indices\n",
        "    encoded_feature = lookup(feature)\n",
        "    return encoded_feature\n"
      ]
    },
    {
      "cell_type": "markdown",
      "metadata": {
        "id": "YWxgxJc1b_vt"
      },
      "source": [
        "## Build a model\n",
        "\n",
        "With this done, we can create our end-to-end model:"
      ]
    },
    {
      "cell_type": "code",
      "execution_count": null,
      "metadata": {
        "id": "oJZ0EsPjb_vt"
      },
      "outputs": [],
      "source": [
        "# Categorical features encoded as integers\n",
        "sex = keras.Input(shape=(1,), name=\"sex\", dtype=\"int64\")\n",
        "cp = keras.Input(shape=(1,), name=\"cp\", dtype=\"int64\")\n",
        "fbs = keras.Input(shape=(1,), name=\"fbs\", dtype=\"int64\")\n",
        "restecg = keras.Input(shape=(1,), name=\"restecg\", dtype=\"int64\")\n",
        "exang = keras.Input(shape=(1,), name=\"exang\", dtype=\"int64\")\n",
        "ca = keras.Input(shape=(1,), name=\"ca\", dtype=\"int64\")\n",
        "\n",
        "# Categorical feature encoded as string\n",
        "thal = keras.Input(shape=(1,), name=\"thal\", dtype=\"string\")\n",
        "\n",
        "# Numerical features\n",
        "age = keras.Input(shape=(1,), name=\"age\")\n",
        "trestbps = keras.Input(shape=(1,), name=\"trestbps\")\n",
        "chol = keras.Input(shape=(1,), name=\"chol\")\n",
        "thalach = keras.Input(shape=(1,), name=\"thalach\")\n",
        "oldpeak = keras.Input(shape=(1,), name=\"oldpeak\")\n",
        "slope = keras.Input(shape=(1,), name=\"slope\")\n",
        "\n",
        "all_inputs = [\n",
        "    sex,\n",
        "    cp,\n",
        "    fbs,\n",
        "    restecg,\n",
        "    exang,\n",
        "    ca,\n",
        "    thal,\n",
        "    age,\n",
        "    trestbps,\n",
        "    chol,\n",
        "    thalach,\n",
        "    oldpeak,\n",
        "    slope,\n",
        "]\n",
        "\n",
        "# Integer categorical features\n",
        "sex_encoded = encode_categorical_feature(sex, \"sex\", train_ds, False)\n",
        "cp_encoded = encode_categorical_feature(cp, \"cp\", train_ds, False)\n",
        "fbs_encoded = encode_categorical_feature(fbs, \"fbs\", train_ds, False)\n",
        "restecg_encoded = encode_categorical_feature(restecg, \"restecg\", train_ds, False)\n",
        "exang_encoded = encode_categorical_feature(exang, \"exang\", train_ds, False)\n",
        "ca_encoded = encode_categorical_feature(ca, \"ca\", train_ds, False)\n",
        "\n",
        "# String categorical features\n",
        "thal_encoded = encode_categorical_feature(thal, \"thal\", train_ds, True)\n",
        "\n",
        "# Numerical features\n",
        "age_encoded = encode_numerical_feature(age, \"age\", train_ds)\n",
        "trestbps_encoded = encode_numerical_feature(trestbps, \"trestbps\", train_ds)\n",
        "chol_encoded = encode_numerical_feature(chol, \"chol\", train_ds)\n",
        "thalach_encoded = encode_numerical_feature(thalach, \"thalach\", train_ds)\n",
        "oldpeak_encoded = encode_numerical_feature(oldpeak, \"oldpeak\", train_ds)\n",
        "slope_encoded = encode_numerical_feature(slope, \"slope\", train_ds)\n",
        "\n",
        "all_features = layers.concatenate(\n",
        "    [\n",
        "        sex_encoded,\n",
        "        cp_encoded,\n",
        "        fbs_encoded,\n",
        "        restecg_encoded,\n",
        "        exang_encoded,\n",
        "        slope_encoded,\n",
        "        ca_encoded,\n",
        "        thal_encoded,\n",
        "        age_encoded,\n",
        "        trestbps_encoded,\n",
        "        chol_encoded,\n",
        "        thalach_encoded,\n",
        "        oldpeak_encoded,\n",
        "    ]\n",
        ")\n",
        "x = layers.Dense(32, activation=\"relu\")(all_features)\n",
        "x = layers.Dropout(0.5)(x)\n",
        "output = layers.Dense(1, activation=\"sigmoid\")(x)\n",
        "model = keras.Model(all_inputs, output)\n",
        "model.compile(\"adam\", \"binary_crossentropy\", metrics=[\"accuracy\"])"
      ]
    },
    {
      "cell_type": "markdown",
      "metadata": {
        "id": "CzkR9bceb_vu"
      },
      "source": [
        "Let's visualize our connectivity graph:"
      ]
    },
    {
      "cell_type": "code",
      "execution_count": null,
      "metadata": {
        "id": "gtP52PWsb_vu"
      },
      "outputs": [],
      "source": [
        "# `rankdir='LR'` is to make the graph horizontal.\n",
        "keras.utils.plot_model(model, show_shapes=True, rankdir=\"LR\")"
      ]
    },
    {
      "cell_type": "markdown",
      "metadata": {
        "id": "5igsOv1jb_vv"
      },
      "source": [
        "## Train the model"
      ]
    },
    {
      "cell_type": "code",
      "execution_count": null,
      "metadata": {
        "id": "T15LQ3qNb_vv"
      },
      "outputs": [],
      "source": [
        "model.fit(train_ds, epochs=50, validation_data=val_ds)"
      ]
    },
    {
      "cell_type": "markdown",
      "metadata": {
        "id": "neb1jM3Sb_vv"
      },
      "source": [
        "We quickly get to 80% validation accuracy."
      ]
    },
    {
      "cell_type": "markdown",
      "metadata": {
        "id": "jRUwMs6jb_vv"
      },
      "source": [
        "## Inference on new data\n",
        "\n",
        "To get a prediction for a new sample, you can simply call `model.predict()`. There are\n",
        "just two things you need to do:\n",
        "\n",
        "1. wrap scalars into a list so as to have a batch dimension (models only process batches\n",
        "of data, not single samples)\n",
        "2. Call `convert_to_tensor` on each feature"
      ]
    },
    {
      "cell_type": "code",
      "execution_count": null,
      "metadata": {
        "id": "UV7e_9K2b_vw"
      },
      "outputs": [],
      "source": [
        "sample = {\n",
        "    \"age\": 60,\n",
        "    \"sex\": 1,\n",
        "    \"cp\": 1,\n",
        "    \"trestbps\": 145,\n",
        "    \"chol\": 233,\n",
        "    \"fbs\": 1,\n",
        "    \"restecg\": 2,\n",
        "    \"thalach\": 150,\n",
        "    \"exang\": 0,\n",
        "    \"oldpeak\": 2.3,\n",
        "    \"slope\": 3,\n",
        "    \"ca\": 0,\n",
        "    \"thal\": \"fixed\",\n",
        "}\n",
        "\n",
        "input_dict = {name: tf.convert_to_tensor([value]) for name, value in sample.items()}\n",
        "predictions = model.predict(input_dict)\n",
        "\n",
        "print(\n",
        "    \"This particular patient had a %.1f percent probability \"\n",
        "    \"of having a heart disease, as evaluated by our model.\" % (100 * predictions[0][0],)\n",
        ")"
      ]
    }
  ],
  "metadata": {
    "colab": {
      "collapsed_sections": [],
      "name": "structured_data_classification_from_scratch",
      "provenance": [],
      "toc_visible": true
    },
    "kernelspec": {
      "display_name": "Python 3",
      "language": "python",
      "name": "python3"
    },
    "language_info": {
      "codemirror_mode": {
        "name": "ipython",
        "version": 3
      },
      "file_extension": ".py",
      "mimetype": "text/x-python",
      "name": "python",
      "nbconvert_exporter": "python",
      "pygments_lexer": "ipython3",
      "version": "3.8.12"
    }
  },
  "nbformat": 4,
  "nbformat_minor": 0
}
