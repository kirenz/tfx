{
 "cells": [
  {
   "cell_type": "markdown",
   "metadata": {
    "id": "2V_OLlgtQ0DW"
   },
   "source": [
    "# TensorFlow Data Validation (TFDV)\n",
    "\n",
    "\n",
    "In this notebook, you will get to practice using [TensorFlow Data Validation (TFDV)](https://cloud.google.com/solutions/machine-learning/analyzing-and-validating-data-at-scale-for-ml-using-tfx), an open-source Python package from the [TensorFlow Extended (TFX)](https://www.tensorflow.org/tfx) ecosystem. \n",
    "\n",
    "TFDV helps to understand, validate, and monitor production machine learning data at scale. It provides insight into some key questions in the data analysis process such as:\n",
    "\n",
    "* What are the underlying statistics of my data?\n",
    "\n",
    "* What does my training dataset look like?\n",
    "\n",
    "* How does my evaluation and serving datasets compare to the training dataset?\n",
    "\n",
    "* How can I find and fix data anomalies?\n",
    "\n",
    "\n",
    "You can use TFDV to compute descriptive statistics of the training data and generate a schema. You can then validate new datasets (e.g. the serving dataset from your customers) against this schema to detect and fix anomalies. This helps prevent the different types of skew. That way, you can be confident that your model is training on or predicting data that is consistent with the expected feature types and distribution.\n",
    "\n",
    "This ungraded exercise demonstrates useful functions of TFDV at an introductory level as preparation for this week's graded programming exercise. Specifically, you will:\n",
    "\n",
    "- **Generate and visualize statistics from a dataset**\n",
    "- **Detect and fix anomalies in an evaluation dataset**\n",
    "\n",
    "Let's begin!"
   ]
  },
  {
   "cell_type": "markdown",
   "metadata": {
    "id": "lyGr4CC8AUfu"
   },
   "source": [
    "## Package Installation and Imports"
   ]
  },
  {
   "cell_type": "code",
   "execution_count": 1,
   "metadata": {
    "id": "GHi-tkOeBOis"
   },
   "outputs": [
    {
     "output_type": "stream",
     "name": "stdout",
     "text": [
      "TFDV Version: 0.30.0\nTensorflow Version: 2.4.1\n"
     ]
    }
   ],
   "source": [
    "import tensorflow as tf\n",
    "import tensorflow_data_validation as tfdv\n",
    "import pandas as pd\n",
    "\n",
    "from sklearn.model_selection import train_test_split\n",
    "#from util import add_extra_rows\n",
    "\n",
    "from tensorflow_metadata.proto.v0 import schema_pb2\n",
    "\n",
    "print('TFDV Version: {}'.format(tfdv.__version__))\n",
    "print('Tensorflow Version: {}'.format(tf.__version__))"
   ]
  },
  {
   "cell_type": "markdown",
   "metadata": {
    "id": "Kzt9rO9eAGF-"
   },
   "source": [
    "## Download the dataset\n",
    "\n",
    "You will be working with the [Census Income Dataset](http://archive.ics.uci.edu/ml/datasets/Census+Income), a dataset that can be used to predict if an individual earns more than or less than 50k US Dollars annually. The summary of attribute names with descriptions/expected values is shown below and you can read more about it [in this data description file.](https://archive.ics.uci.edu/ml/machine-learning-databases/adult/adult.names)\n",
    "\n",
    "\n",
    "* **age**: continuous.\n",
    "* **workclass**: Private, Self-emp-not-inc, Self-emp-inc, Federal-gov, Local-gov, State-gov, Without-pay, Never-worked.\n",
    "* **fnlwgt**: continuous.\n",
    "* **education**: Bachelors, Some-college, 11th, HS-grad, Prof-school, Assoc-acdm, Assoc-voc, 9th, 7th-8th, 12th, Masters, 1st-4th, 10th, Doctorate, 5th-6th, Preschool.\n",
    "* **education-num**: continuous.\n",
    "* **marital-status**: Married-civ-spouse, Divorced, Never-married, Separated, Widowed, Married-spouse-absent, Married-AF-spouse.\n",
    "* **occupation**: Tech-support, Craft-repair, Other-service, Sales, Exec-managerial, Prof-specialty, Handlers-cleaners, Machine-op-inspct, Adm-clerical, Farming-fishing, Transport-moving, Priv-house-serv, Protective-serv, Armed-Forces.\n",
    "* **relationship**: Wife, Own-child, Husband, Not-in-family, Other-relative, Unmarried.\n",
    "* **race**: White, Asian-Pac-Islander, Amer-Indian-Eskimo, Other, Black.\n",
    "* **sex**: Female, Male.\n",
    "* **capital-gain**: continuous.\n",
    "* **capital-loss**: continuous.\n",
    "* **hours-per-week**: continuous.\n",
    "* **native-country**: United-States, Cambodia, England, Puerto-Rico, Canada, Germany, Outlying-US(Guam-USVI-etc), India, Japan, Greece, South, China, Cuba, Iran, Honduras, Philippines, Italy, Poland, Jamaica, Vietnam, Mexico, Portugal, Ireland, France, Dominican-Republic, Laos, Ecuador, Taiwan, Haiti, Columbia, Hungary, Guatemala, Nicaragua, Scotland, Thailand, Yugoslavia, El-Salvador, Trinadad&Tobago, Peru, Hong, Holand-Netherlands.\n",
    "\n",
    "Let's load the dataset and split it into training and evaluation sets. We will not shuffle them for consistent results in this demo notebook but you should otherwise in real projects."
   ]
  },
  {
   "cell_type": "code",
   "execution_count": 6,
   "metadata": {},
   "outputs": [],
   "source": [
    "import os.path\n",
    "\n",
    "# Define data name\n",
    "DATA_NAME = \"adult.data\"\n",
    "# Define data path\n",
    "DATA_PATH = os.path.abspath(DATA_NAME)\n",
    "\n",
    "# Import data with pandas\n",
    "df = pd.read_csv(DATA_PATH, skipinitialspace=True)"
   ]
  },
  {
   "cell_type": "code",
   "execution_count": 7,
   "metadata": {
    "id": "WKTfuT2rga-_"
   },
   "outputs": [],
   "source": [
    "# Split the dataset. Do not shuffle for this demo notebook.\n",
    "train_df, eval_df = train_test_split(df, test_size=0.2, shuffle=False)"
   ]
  },
  {
   "cell_type": "markdown",
   "metadata": {
    "id": "0RQvgiMRq0pn"
   },
   "source": [
    "Let's see the first few columns of the train and eval sets."
   ]
  },
  {
   "cell_type": "code",
   "execution_count": 8,
   "metadata": {
    "id": "uxDFD6dR0PYH"
   },
   "outputs": [
    {
     "output_type": "execute_result",
     "data": {
      "text/plain": [
       "   39         State-gov   77516  Bachelors  13       Never-married  \\\n",
       "0  50  Self-emp-not-inc   83311  Bachelors  13  Married-civ-spouse   \n",
       "1  38           Private  215646    HS-grad   9            Divorced   \n",
       "2  53           Private  234721       11th   7  Married-civ-spouse   \n",
       "3  28           Private  338409  Bachelors  13  Married-civ-spouse   \n",
       "4  37           Private  284582    Masters  14  Married-civ-spouse   \n",
       "\n",
       "        Adm-clerical  Not-in-family  White    Male  2174  0  40  \\\n",
       "0    Exec-managerial        Husband  White    Male     0  0  13   \n",
       "1  Handlers-cleaners  Not-in-family  White    Male     0  0  40   \n",
       "2  Handlers-cleaners        Husband  Black    Male     0  0  40   \n",
       "3     Prof-specialty           Wife  Black  Female     0  0  40   \n",
       "4    Exec-managerial           Wife  White  Female     0  0  40   \n",
       "\n",
       "   United-States  <=50K  \n",
       "0  United-States  <=50K  \n",
       "1  United-States  <=50K  \n",
       "2  United-States  <=50K  \n",
       "3           Cuba  <=50K  \n",
       "4  United-States  <=50K  "
      ],
      "text/html": "<div>\n<style scoped>\n    .dataframe tbody tr th:only-of-type {\n        vertical-align: middle;\n    }\n\n    .dataframe tbody tr th {\n        vertical-align: top;\n    }\n\n    .dataframe thead th {\n        text-align: right;\n    }\n</style>\n<table border=\"1\" class=\"dataframe\">\n  <thead>\n    <tr style=\"text-align: right;\">\n      <th></th>\n      <th>39</th>\n      <th>State-gov</th>\n      <th>77516</th>\n      <th>Bachelors</th>\n      <th>13</th>\n      <th>Never-married</th>\n      <th>Adm-clerical</th>\n      <th>Not-in-family</th>\n      <th>White</th>\n      <th>Male</th>\n      <th>2174</th>\n      <th>0</th>\n      <th>40</th>\n      <th>United-States</th>\n      <th>&lt;=50K</th>\n    </tr>\n  </thead>\n  <tbody>\n    <tr>\n      <th>0</th>\n      <td>50</td>\n      <td>Self-emp-not-inc</td>\n      <td>83311</td>\n      <td>Bachelors</td>\n      <td>13</td>\n      <td>Married-civ-spouse</td>\n      <td>Exec-managerial</td>\n      <td>Husband</td>\n      <td>White</td>\n      <td>Male</td>\n      <td>0</td>\n      <td>0</td>\n      <td>13</td>\n      <td>United-States</td>\n      <td>&lt;=50K</td>\n    </tr>\n    <tr>\n      <th>1</th>\n      <td>38</td>\n      <td>Private</td>\n      <td>215646</td>\n      <td>HS-grad</td>\n      <td>9</td>\n      <td>Divorced</td>\n      <td>Handlers-cleaners</td>\n      <td>Not-in-family</td>\n      <td>White</td>\n      <td>Male</td>\n      <td>0</td>\n      <td>0</td>\n      <td>40</td>\n      <td>United-States</td>\n      <td>&lt;=50K</td>\n    </tr>\n    <tr>\n      <th>2</th>\n      <td>53</td>\n      <td>Private</td>\n      <td>234721</td>\n      <td>11th</td>\n      <td>7</td>\n      <td>Married-civ-spouse</td>\n      <td>Handlers-cleaners</td>\n      <td>Husband</td>\n      <td>Black</td>\n      <td>Male</td>\n      <td>0</td>\n      <td>0</td>\n      <td>40</td>\n      <td>United-States</td>\n      <td>&lt;=50K</td>\n    </tr>\n    <tr>\n      <th>3</th>\n      <td>28</td>\n      <td>Private</td>\n      <td>338409</td>\n      <td>Bachelors</td>\n      <td>13</td>\n      <td>Married-civ-spouse</td>\n      <td>Prof-specialty</td>\n      <td>Wife</td>\n      <td>Black</td>\n      <td>Female</td>\n      <td>0</td>\n      <td>0</td>\n      <td>40</td>\n      <td>Cuba</td>\n      <td>&lt;=50K</td>\n    </tr>\n    <tr>\n      <th>4</th>\n      <td>37</td>\n      <td>Private</td>\n      <td>284582</td>\n      <td>Masters</td>\n      <td>14</td>\n      <td>Married-civ-spouse</td>\n      <td>Exec-managerial</td>\n      <td>Wife</td>\n      <td>White</td>\n      <td>Female</td>\n      <td>0</td>\n      <td>0</td>\n      <td>40</td>\n      <td>United-States</td>\n      <td>&lt;=50K</td>\n    </tr>\n  </tbody>\n</table>\n</div>"
     },
     "metadata": {},
     "execution_count": 8
    }
   ],
   "source": [
    "# Preview the train set\n",
    "train_df.head()"
   ]
  },
  {
   "cell_type": "code",
   "execution_count": 9,
   "metadata": {
    "id": "yyrmQLCm0a5V"
   },
   "outputs": [
    {
     "output_type": "execute_result",
     "data": {
      "text/plain": [
       "       39 State-gov   77516     Bachelors  13       Never-married  \\\n",
       "26048  21   Private  216129       HS-grad   9       Never-married   \n",
       "26049  33   Private  189368  Some-college  10  Married-civ-spouse   \n",
       "26050  19         ?  141418  Some-college  10       Never-married   \n",
       "26051  19   Private  306225       HS-grad   9       Never-married   \n",
       "26052  35   Private  330664       HS-grad   9            Divorced   \n",
       "\n",
       "            Adm-clerical  Not-in-family  White  Male  2174  0  40  \\\n",
       "26048      Other-service      Own-child  White  Male     0  0  35   \n",
       "26049   Transport-moving        Husband  Black  Male     0  0  40   \n",
       "26050                  ?      Own-child  White  Male     0  0  15   \n",
       "26051  Handlers-cleaners      Own-child  White  Male     0  0  25   \n",
       "26052   Transport-moving  Not-in-family  White  Male     0  0  40   \n",
       "\n",
       "       United-States  <=50K  \n",
       "26048  United-States  <=50K  \n",
       "26049  United-States   >50K  \n",
       "26050  United-States  <=50K  \n",
       "26051  United-States  <=50K  \n",
       "26052  United-States  <=50K  "
      ],
      "text/html": "<div>\n<style scoped>\n    .dataframe tbody tr th:only-of-type {\n        vertical-align: middle;\n    }\n\n    .dataframe tbody tr th {\n        vertical-align: top;\n    }\n\n    .dataframe thead th {\n        text-align: right;\n    }\n</style>\n<table border=\"1\" class=\"dataframe\">\n  <thead>\n    <tr style=\"text-align: right;\">\n      <th></th>\n      <th>39</th>\n      <th>State-gov</th>\n      <th>77516</th>\n      <th>Bachelors</th>\n      <th>13</th>\n      <th>Never-married</th>\n      <th>Adm-clerical</th>\n      <th>Not-in-family</th>\n      <th>White</th>\n      <th>Male</th>\n      <th>2174</th>\n      <th>0</th>\n      <th>40</th>\n      <th>United-States</th>\n      <th>&lt;=50K</th>\n    </tr>\n  </thead>\n  <tbody>\n    <tr>\n      <th>26048</th>\n      <td>21</td>\n      <td>Private</td>\n      <td>216129</td>\n      <td>HS-grad</td>\n      <td>9</td>\n      <td>Never-married</td>\n      <td>Other-service</td>\n      <td>Own-child</td>\n      <td>White</td>\n      <td>Male</td>\n      <td>0</td>\n      <td>0</td>\n      <td>35</td>\n      <td>United-States</td>\n      <td>&lt;=50K</td>\n    </tr>\n    <tr>\n      <th>26049</th>\n      <td>33</td>\n      <td>Private</td>\n      <td>189368</td>\n      <td>Some-college</td>\n      <td>10</td>\n      <td>Married-civ-spouse</td>\n      <td>Transport-moving</td>\n      <td>Husband</td>\n      <td>Black</td>\n      <td>Male</td>\n      <td>0</td>\n      <td>0</td>\n      <td>40</td>\n      <td>United-States</td>\n      <td>&gt;50K</td>\n    </tr>\n    <tr>\n      <th>26050</th>\n      <td>19</td>\n      <td>?</td>\n      <td>141418</td>\n      <td>Some-college</td>\n      <td>10</td>\n      <td>Never-married</td>\n      <td>?</td>\n      <td>Own-child</td>\n      <td>White</td>\n      <td>Male</td>\n      <td>0</td>\n      <td>0</td>\n      <td>15</td>\n      <td>United-States</td>\n      <td>&lt;=50K</td>\n    </tr>\n    <tr>\n      <th>26051</th>\n      <td>19</td>\n      <td>Private</td>\n      <td>306225</td>\n      <td>HS-grad</td>\n      <td>9</td>\n      <td>Never-married</td>\n      <td>Handlers-cleaners</td>\n      <td>Own-child</td>\n      <td>White</td>\n      <td>Male</td>\n      <td>0</td>\n      <td>0</td>\n      <td>25</td>\n      <td>United-States</td>\n      <td>&lt;=50K</td>\n    </tr>\n    <tr>\n      <th>26052</th>\n      <td>35</td>\n      <td>Private</td>\n      <td>330664</td>\n      <td>HS-grad</td>\n      <td>9</td>\n      <td>Divorced</td>\n      <td>Transport-moving</td>\n      <td>Not-in-family</td>\n      <td>White</td>\n      <td>Male</td>\n      <td>0</td>\n      <td>0</td>\n      <td>40</td>\n      <td>United-States</td>\n      <td>&lt;=50K</td>\n    </tr>\n  </tbody>\n</table>\n</div>"
     },
     "metadata": {},
     "execution_count": 9
    }
   ],
   "source": [
    "# Preview the eval set\n",
    "eval_df.head()"
   ]
  },
  {
   "cell_type": "markdown",
   "metadata": {
    "id": "12_uIoIjr9lv"
   },
   "source": [
    "From these few columns, you can get a first impression of the data. You will notice that most are strings and integers. There are also columns that are mostly zeroes. In the next sections, you will see how to use TFDV to aggregate and process this information so you can inspect it more easily."
   ]
  },
  {
   "cell_type": "markdown",
   "metadata": {},
   "source": [
    "### Adding extra rows\n",
    "\n",
    "To demonstrate how TFDV can detect anomalies later, you will add a few extra rows to the evaluation dataset. These are either malformed or have values that will trigger certain alarms later in this notebook. The code to add these can be seen in the `add_extra_rows()` function of `util.py` found in your Jupyter workspace. You can look at it later and even modify it after you've completed the entire exercise. For now, let's just execute the function and add the rows that we've defined by default."
   ]
  },
  {
   "cell_type": "code",
   "execution_count": 8,
   "metadata": {},
   "outputs": [],
   "source": [
    "# add extra rows\n",
    "#eval_df = add_extra_rows(eval_df)\n",
    "\n",
    "# preview the added rows\n",
    "#eval_df.tail(4)"
   ]
  },
  {
   "cell_type": "markdown",
   "metadata": {
    "id": "Duwwrsvf_9bK"
   },
   "source": [
    "## Generate and visualize training dataset statistics"
   ]
  },
  {
   "cell_type": "markdown",
   "metadata": {
    "id": "5Nm5E1HAgPU0"
   },
   "source": [
    "You can now compute and visualize the statistics of your training dataset. TFDV accepts three input formats: TensorFlow’s TFRecord, Pandas Dataframe, and CSV file. In this exercise, you will feed in the Pandas Dataframes you generated from the train-test split. \n",
    "\n",
    "You can compute your dataset statistics by using the [`generate_statistics_from_dataframe()`](https://www.tensorflow.org/tfx/data_validation/api_docs/python/tfdv/generate_statistics_from_dataframe) method. Under the hood, it distributes the analysis via [Apache Beam](https://beam.apache.org/) which allows it to scale over large datasets.\n",
    "\n",
    "The results returned by this step for numerical and categorical data are summarized in this table:\n",
    "\n",
    "| Numerical Data | Categorical Data   |\n",
    "|:-|:-|\n",
    "|Count of data records|Count of data records\n",
    "|% of missing data records|% of missing data records|\n",
    "|Mean, std, min, max|unique records|\n",
    "|% of zero values|Avg string length|\n"
   ]
  },
  {
   "cell_type": "code",
   "execution_count": 10,
   "metadata": {
    "id": "_vTx9Qkk4yGc"
   },
   "outputs": [],
   "source": [
    "# Generate training dataset statistics\n",
    "train_stats = tfdv.generate_statistics_from_dataframe(train_df)"
   ]
  },
  {
   "cell_type": "markdown",
   "metadata": {
    "id": "86nhDglwuilJ"
   },
   "source": [
    "Once you've generated the statistics, you can easily visualize your results with the [`visualize_statistics()`](https://www.tensorflow.org/tfx/data_validation/api_docs/python/tfdv/visualize_statistics) method. This shows a [Facets interface](https://pair-code.github.io/facets/) and is very useful to spot if you have a high amount of missing data or high standard deviation. Run the cell below and explore the different settings in the output interface (e.g. Sort by, Reverse order, Feature search)."
   ]
  },
  {
   "cell_type": "code",
   "execution_count": 11,
   "metadata": {
    "id": "1D1wP3mm5ebW"
   },
   "outputs": [
    {
     "output_type": "display_data",
     "data": {
      "text/plain": "<IPython.core.display.HTML object>",
      "text/html": "<iframe id='facets-iframe' width=\"100%\" height=\"500px\"></iframe>\n        <script>\n        facets_iframe = document.getElementById('facets-iframe');\n        facets_html = '<script src=\"https://cdnjs.cloudflare.com/ajax/libs/webcomponentsjs/1.3.3/webcomponents-lite.js\"><\\/script><link rel=\"import\" href=\"https://raw.githubusercontent.com/PAIR-code/facets/master/facets-dist/facets-jupyter.html\"><facets-overview proto-input=\"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\"></facets-overview>';\n        facets_iframe.srcdoc = facets_html;\n         facets_iframe.id = \"\";\n         setTimeout(() => {\n           facets_iframe.setAttribute('height', facets_iframe.contentWindow.document.body.offsetHeight + 'px')\n         }, 1500)\n         </script>"
     },
     "metadata": {}
    }
   ],
   "source": [
    "# Visualize training dataset statistics\n",
    "tfdv.visualize_statistics(train_stats)"
   ]
  },
  {
   "cell_type": "markdown",
   "metadata": {
    "id": "DVQTOBpdgPU0"
   },
   "source": [
    "## Infer data schema"
   ]
  },
  {
   "cell_type": "markdown",
   "metadata": {
    "id": "Ya6ecHE9gPU1"
   },
   "source": [
    "Next step is to create a data schema to describe your train set. Simply put, a schema describes standard characteristics of your data such as column data types and expected data value range. The schema is created on a dataset that you consider as reference, and can be reused to validate other incoming datasets.\n",
    "\n",
    "With the computed statistics, TFDV allows you to automatically generate an initial version of the schema using the [`infer_schema()`](https://www.tensorflow.org/tfx/data_validation/api_docs/python/tfdv/infer_schema) method. This returns a Schema [protocol buffer](https://developers.google.com/protocol-buffers) containing the result. As mentioned in the [TFX paper](http://stevenwhang.com/tfx_paper.pdf) (Section 3.3), the results of the schema inference can be summarized as follows:\n",
    "\n",
    "* The expected type of each feature.\n",
    "* The expected presence of each feature, in terms of a minimum count and fraction of examples that must contain\n",
    "the feature.\n",
    "* The expected valency of the feature in each example, i.e.,\n",
    "minimum and maximum number of values.\n",
    "* The expected domain of a feature, i.e., the small universe of\n",
    "values for a string feature, or range for an integer feature.\n",
    "\n",
    "Run the cell below to infer the training dataset schema."
   ]
  },
  {
   "cell_type": "code",
   "execution_count": 11,
   "metadata": {
    "id": "W9skjM-M44Jz"
   },
   "outputs": [
    {
     "output_type": "display_data",
     "data": {
      "text/plain": "                   Type  Presence Valency           Domain\nFeature name                                              \n'39'                INT  required                        -\n'State-gov'      STRING  required              'State-gov'\n'77516'             INT  required                        -\n'Bachelors'      STRING  required              'Bachelors'\n'13'                INT  required                        -\n'Never-married'  STRING  required          'Never-married'\n'Adm-clerical'   STRING  required           'Adm-clerical'\n'Not-in-family'  STRING  required          'Not-in-family'\n'White'          STRING  required                  'White'\n'Male'           STRING  required                   'Male'\n'2174'              INT  required                        -\n'0'                 INT  required                        -\n'40'                INT  required                        -\n'United-States'  STRING  required          'United-States'\n'<=50K'          STRING  required                  '<=50K'",
      "text/html": "<div>\n<style scoped>\n    .dataframe tbody tr th:only-of-type {\n        vertical-align: middle;\n    }\n\n    .dataframe tbody tr th {\n        vertical-align: top;\n    }\n\n    .dataframe thead th {\n        text-align: right;\n    }\n</style>\n<table border=\"1\" class=\"dataframe\">\n  <thead>\n    <tr style=\"text-align: right;\">\n      <th></th>\n      <th>Type</th>\n      <th>Presence</th>\n      <th>Valency</th>\n      <th>Domain</th>\n    </tr>\n    <tr>\n      <th>Feature name</th>\n      <th></th>\n      <th></th>\n      <th></th>\n      <th></th>\n    </tr>\n  </thead>\n  <tbody>\n    <tr>\n      <th>'39'</th>\n      <td>INT</td>\n      <td>required</td>\n      <td></td>\n      <td>-</td>\n    </tr>\n    <tr>\n      <th>'State-gov'</th>\n      <td>STRING</td>\n      <td>required</td>\n      <td></td>\n      <td>'State-gov'</td>\n    </tr>\n    <tr>\n      <th>'77516'</th>\n      <td>INT</td>\n      <td>required</td>\n      <td></td>\n      <td>-</td>\n    </tr>\n    <tr>\n      <th>'Bachelors'</th>\n      <td>STRING</td>\n      <td>required</td>\n      <td></td>\n      <td>'Bachelors'</td>\n    </tr>\n    <tr>\n      <th>'13'</th>\n      <td>INT</td>\n      <td>required</td>\n      <td></td>\n      <td>-</td>\n    </tr>\n    <tr>\n      <th>'Never-married'</th>\n      <td>STRING</td>\n      <td>required</td>\n      <td></td>\n      <td>'Never-married'</td>\n    </tr>\n    <tr>\n      <th>'Adm-clerical'</th>\n      <td>STRING</td>\n      <td>required</td>\n      <td></td>\n      <td>'Adm-clerical'</td>\n    </tr>\n    <tr>\n      <th>'Not-in-family'</th>\n      <td>STRING</td>\n      <td>required</td>\n      <td></td>\n      <td>'Not-in-family'</td>\n    </tr>\n    <tr>\n      <th>'White'</th>\n      <td>STRING</td>\n      <td>required</td>\n      <td></td>\n      <td>'White'</td>\n    </tr>\n    <tr>\n      <th>'Male'</th>\n      <td>STRING</td>\n      <td>required</td>\n      <td></td>\n      <td>'Male'</td>\n    </tr>\n    <tr>\n      <th>'2174'</th>\n      <td>INT</td>\n      <td>required</td>\n      <td></td>\n      <td>-</td>\n    </tr>\n    <tr>\n      <th>'0'</th>\n      <td>INT</td>\n      <td>required</td>\n      <td></td>\n      <td>-</td>\n    </tr>\n    <tr>\n      <th>'40'</th>\n      <td>INT</td>\n      <td>required</td>\n      <td></td>\n      <td>-</td>\n    </tr>\n    <tr>\n      <th>'United-States'</th>\n      <td>STRING</td>\n      <td>required</td>\n      <td></td>\n      <td>'United-States'</td>\n    </tr>\n    <tr>\n      <th>'&lt;=50K'</th>\n      <td>STRING</td>\n      <td>required</td>\n      <td></td>\n      <td>'&lt;=50K'</td>\n    </tr>\n  </tbody>\n</table>\n</div>"
     },
     "metadata": {}
    },
    {
     "output_type": "stream",
     "name": "stderr",
     "text": [
      "/Users/jankirenz/opt/anaconda3/envs/tf/lib/python3.7/site-packages/tensorflow_data_validation/utils/display_util.py:180: FutureWarning: Passing a negative integer is deprecated in version 1.0 and will not be supported in future version. Instead, use None to not limit the column width.\n  pd.set_option('max_colwidth', -1)\n"
     ]
    },
    {
     "output_type": "display_data",
     "data": {
      "text/plain": "                                                                                                                                                                                                                                                                                                                                                                                                                                                                                                                                Values\nDomain                                                                                                                                                                                                                                                                                                                                                                                                                                                                                                                                \n'State-gov'      '?', 'Federal-gov', 'Local-gov', 'Never-worked', 'Private', 'Self-emp-inc', 'Self-emp-not-inc', 'State-gov', 'Without-pay'                                                                                                                                                                                                                                                                                                                                                                                           \n'Bachelors'      '10th', '11th', '12th', '1st-4th', '5th-6th', '7th-8th', '9th', 'Assoc-acdm', 'Assoc-voc', 'Bachelors', 'Doctorate', 'HS-grad', 'Masters', 'Preschool', 'Prof-school', 'Some-college'                                                                                                                                                                                                                                                                                                                                \n'Never-married'  'Divorced', 'Married-AF-spouse', 'Married-civ-spouse', 'Married-spouse-absent', 'Never-married', 'Separated', 'Widowed'                                                                                                                                                                                                                                                                                                                                                                                              \n'Adm-clerical'   '?', 'Adm-clerical', 'Armed-Forces', 'Craft-repair', 'Exec-managerial', 'Farming-fishing', 'Handlers-cleaners', 'Machine-op-inspct', 'Other-service', 'Priv-house-serv', 'Prof-specialty', 'Protective-serv', 'Sales', 'Tech-support', 'Transport-moving'                                                                                                                                                                                                                                                            \n'Not-in-family'  'Husband', 'Not-in-family', 'Other-relative', 'Own-child', 'Unmarried', 'Wife'                                                                                                                                                                                                                                                                                                                                                                                                                                       \n'White'          'Amer-Indian-Eskimo', 'Asian-Pac-Islander', 'Black', 'Other', 'White'                                                                                                                                                                                                                                                                                                                                                                                                                                                \n'Male'           'Female', 'Male'                                                                                                                                                                                                                                                                                                                                                                                                                                                                                                     \n'United-States'  '?', 'Cambodia', 'Canada', 'China', 'Columbia', 'Cuba', 'Dominican-Republic', 'Ecuador', 'El-Salvador', 'England', 'France', 'Germany', 'Greece', 'Guatemala', 'Haiti', 'Holand-Netherlands', 'Honduras', 'Hong', 'Hungary', 'India', 'Iran', 'Ireland', 'Italy', 'Jamaica', 'Japan', 'Laos', 'Mexico', 'Nicaragua', 'Outlying-US(Guam-USVI-etc)', 'Peru', 'Philippines', 'Poland', 'Portugal', 'Puerto-Rico', 'Scotland', 'South', 'Taiwan', 'Thailand', 'Trinadad&Tobago', 'United-States', 'Vietnam', 'Yugoslavia'\n'<=50K'          '<=50K', '>50K'                                                                                                                                                                                                                                                                                                                                                                                                                                                                                                      ",
      "text/html": "<div>\n<style scoped>\n    .dataframe tbody tr th:only-of-type {\n        vertical-align: middle;\n    }\n\n    .dataframe tbody tr th {\n        vertical-align: top;\n    }\n\n    .dataframe thead th {\n        text-align: right;\n    }\n</style>\n<table border=\"1\" class=\"dataframe\">\n  <thead>\n    <tr style=\"text-align: right;\">\n      <th></th>\n      <th>Values</th>\n    </tr>\n    <tr>\n      <th>Domain</th>\n      <th></th>\n    </tr>\n  </thead>\n  <tbody>\n    <tr>\n      <th>'State-gov'</th>\n      <td>'?', 'Federal-gov', 'Local-gov', 'Never-worked', 'Private', 'Self-emp-inc', 'Self-emp-not-inc', 'State-gov', 'Without-pay'</td>\n    </tr>\n    <tr>\n      <th>'Bachelors'</th>\n      <td>'10th', '11th', '12th', '1st-4th', '5th-6th', '7th-8th', '9th', 'Assoc-acdm', 'Assoc-voc', 'Bachelors', 'Doctorate', 'HS-grad', 'Masters', 'Preschool', 'Prof-school', 'Some-college'</td>\n    </tr>\n    <tr>\n      <th>'Never-married'</th>\n      <td>'Divorced', 'Married-AF-spouse', 'Married-civ-spouse', 'Married-spouse-absent', 'Never-married', 'Separated', 'Widowed'</td>\n    </tr>\n    <tr>\n      <th>'Adm-clerical'</th>\n      <td>'?', 'Adm-clerical', 'Armed-Forces', 'Craft-repair', 'Exec-managerial', 'Farming-fishing', 'Handlers-cleaners', 'Machine-op-inspct', 'Other-service', 'Priv-house-serv', 'Prof-specialty', 'Protective-serv', 'Sales', 'Tech-support', 'Transport-moving'</td>\n    </tr>\n    <tr>\n      <th>'Not-in-family'</th>\n      <td>'Husband', 'Not-in-family', 'Other-relative', 'Own-child', 'Unmarried', 'Wife'</td>\n    </tr>\n    <tr>\n      <th>'White'</th>\n      <td>'Amer-Indian-Eskimo', 'Asian-Pac-Islander', 'Black', 'Other', 'White'</td>\n    </tr>\n    <tr>\n      <th>'Male'</th>\n      <td>'Female', 'Male'</td>\n    </tr>\n    <tr>\n      <th>'United-States'</th>\n      <td>'?', 'Cambodia', 'Canada', 'China', 'Columbia', 'Cuba', 'Dominican-Republic', 'Ecuador', 'El-Salvador', 'England', 'France', 'Germany', 'Greece', 'Guatemala', 'Haiti', 'Holand-Netherlands', 'Honduras', 'Hong', 'Hungary', 'India', 'Iran', 'Ireland', 'Italy', 'Jamaica', 'Japan', 'Laos', 'Mexico', 'Nicaragua', 'Outlying-US(Guam-USVI-etc)', 'Peru', 'Philippines', 'Poland', 'Portugal', 'Puerto-Rico', 'Scotland', 'South', 'Taiwan', 'Thailand', 'Trinadad&amp;Tobago', 'United-States', 'Vietnam', 'Yugoslavia'</td>\n    </tr>\n    <tr>\n      <th>'&lt;=50K'</th>\n      <td>'&lt;=50K', '&gt;50K'</td>\n    </tr>\n  </tbody>\n</table>\n</div>"
     },
     "metadata": {}
    }
   ],
   "source": [
    "# Infer schema from the computed statistics.\n",
    "schema = tfdv.infer_schema(statistics=train_stats)\n",
    "\n",
    "# Display the inferred schema\n",
    "tfdv.display_schema(schema)"
   ]
  },
  {
   "cell_type": "markdown",
   "metadata": {
    "id": "5oj_GIprgPU1"
   },
   "source": [
    "## Generate and visualize evaluation dataset statistics"
   ]
  },
  {
   "cell_type": "markdown",
   "metadata": {
    "id": "rTYMPukogPU1"
   },
   "source": [
    "The next step after generating the schema is to now look at the evaluation dataset. You will begin by computing its statistics then compare it with the training statistics. It is important that the numerical and categorical features of the evaluation data belongs roughly to the same range as the training data. Otherwise, you might have distribution skew that will negatively affect the accuracy of your model.\n",
    "\n",
    "TFDV allows you to generate both the training and evaluation dataset statistics side-by-side. You can use the [`visualize_statistics()`](https://www.tensorflow.org/tfx/data_validation/api_docs/python/tfdv/visualize_statistics) function and pass additional parameters to overlay the statistics from both datasets (referenced as left-hand side and right-hand side statistics). Let's see what these parameters are:\n",
    "\n",
    "- `lhs_statistics`: Required parameter. Expects an instance of `DatasetFeatureStatisticsList `.\n",
    "\n",
    "\n",
    "- `rhs_statistics`: Expects an instance of `DatasetFeatureStatisticsList ` to compare with `lhs_statistics`.\n",
    "\n",
    "\n",
    "- `lhs_name`: Name of the `lhs_statistics` dataset.\n",
    "\n",
    "\n",
    "- `rhs_name`: Name of the `rhs_statistics` dataset."
   ]
  },
  {
   "cell_type": "code",
   "execution_count": 12,
   "metadata": {
    "id": "bzZy1x3c6Mi0",
    "scrolled": true
   },
   "outputs": [
    {
     "output_type": "display_data",
     "data": {
      "text/plain": "<IPython.core.display.HTML object>",
      "text/html": "<iframe id='facets-iframe' width=\"100%\" height=\"500px\"></iframe>\n        <script>\n        facets_iframe = document.getElementById('facets-iframe');\n        facets_html = '<script src=\"https://cdnjs.cloudflare.com/ajax/libs/webcomponentsjs/1.3.3/webcomponents-lite.js\"><\\/script><link rel=\"import\" href=\"https://raw.githubusercontent.com/PAIR-code/facets/master/facets-dist/facets-jupyter.html\"><facets-overview proto-input=\"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\"></facets-overview>';\n        facets_iframe.srcdoc = facets_html;\n         facets_iframe.id = \"\";\n         setTimeout(() => {\n           facets_iframe.setAttribute('height', facets_iframe.contentWindow.document.body.offsetHeight + 'px')\n         }, 1500)\n         </script>"
     },
     "metadata": {}
    }
   ],
   "source": [
    "# Generate evaluation dataset statistics\n",
    "eval_stats = tfdv.generate_statistics_from_dataframe(eval_df)\n",
    "\n",
    "# Compare training with evaluation\n",
    "tfdv.visualize_statistics(\n",
    "    lhs_statistics=eval_stats, \n",
    "    rhs_statistics=train_stats, \n",
    "    lhs_name='EVAL_DATASET', \n",
    "    rhs_name='TRAIN_DATASET'\n",
    ")"
   ]
  },
  {
   "cell_type": "markdown",
   "metadata": {
    "id": "GODDgoHdgPU2"
   },
   "source": [
    "We encourage you to observe the results generated and toggle the menus to practice manipulating the visualization (e.g. sort by missing/zeroes). You'll notice that TFDV detects the malformed rows we introduced earlier. First, the `min` and `max` values of the `age` row shows `0` and `1000`, respectively. We know that those values do not make sense if we're talking about working adults. Secondly, the `workclass` row in the Categorical Features says that `0.02%` of the data is missing that particular attribute. Let's drop these rows to make the data more clean."
   ]
  },
  {
   "cell_type": "code",
   "execution_count": 13,
   "metadata": {},
   "outputs": [
    {
     "output_type": "error",
     "ename": "KeyError",
     "evalue": "'age'",
     "traceback": [
      "\u001b[0;31m---------------------------------------------------------------------------\u001b[0m",
      "\u001b[0;31mKeyError\u001b[0m                                  Traceback (most recent call last)",
      "\u001b[0;32m~/opt/anaconda3/envs/tf/lib/python3.7/site-packages/pandas/core/indexes/base.py\u001b[0m in \u001b[0;36mget_loc\u001b[0;34m(self, key, method, tolerance)\u001b[0m\n\u001b[1;32m   3079\u001b[0m             \u001b[0;32mtry\u001b[0m\u001b[0;34m:\u001b[0m\u001b[0;34m\u001b[0m\u001b[0;34m\u001b[0m\u001b[0m\n\u001b[0;32m-> 3080\u001b[0;31m                 \u001b[0;32mreturn\u001b[0m \u001b[0mself\u001b[0m\u001b[0;34m.\u001b[0m\u001b[0m_engine\u001b[0m\u001b[0;34m.\u001b[0m\u001b[0mget_loc\u001b[0m\u001b[0;34m(\u001b[0m\u001b[0mcasted_key\u001b[0m\u001b[0;34m)\u001b[0m\u001b[0;34m\u001b[0m\u001b[0;34m\u001b[0m\u001b[0m\n\u001b[0m\u001b[1;32m   3081\u001b[0m             \u001b[0;32mexcept\u001b[0m \u001b[0mKeyError\u001b[0m \u001b[0;32mas\u001b[0m \u001b[0merr\u001b[0m\u001b[0;34m:\u001b[0m\u001b[0;34m\u001b[0m\u001b[0;34m\u001b[0m\u001b[0m\n",
      "\u001b[0;32mpandas/_libs/index.pyx\u001b[0m in \u001b[0;36mpandas._libs.index.IndexEngine.get_loc\u001b[0;34m()\u001b[0m\n",
      "\u001b[0;32mpandas/_libs/index.pyx\u001b[0m in \u001b[0;36mpandas._libs.index.IndexEngine.get_loc\u001b[0;34m()\u001b[0m\n",
      "\u001b[0;32mpandas/_libs/hashtable_class_helper.pxi\u001b[0m in \u001b[0;36mpandas._libs.hashtable.PyObjectHashTable.get_item\u001b[0;34m()\u001b[0m\n",
      "\u001b[0;32mpandas/_libs/hashtable_class_helper.pxi\u001b[0m in \u001b[0;36mpandas._libs.hashtable.PyObjectHashTable.get_item\u001b[0;34m()\u001b[0m\n",
      "\u001b[0;31mKeyError\u001b[0m: 'age'",
      "\nThe above exception was the direct cause of the following exception:\n",
      "\u001b[0;31mKeyError\u001b[0m                                  Traceback (most recent call last)",
      "\u001b[0;32m<ipython-input-13-6cdf809b8ebf>\u001b[0m in \u001b[0;36m<module>\u001b[0;34m\u001b[0m\n\u001b[1;32m      1\u001b[0m \u001b[0;31m# filter the age range\u001b[0m\u001b[0;34m\u001b[0m\u001b[0;34m\u001b[0m\u001b[0;34m\u001b[0m\u001b[0m\n\u001b[0;32m----> 2\u001b[0;31m \u001b[0meval_df\u001b[0m \u001b[0;34m=\u001b[0m \u001b[0meval_df\u001b[0m\u001b[0;34m[\u001b[0m\u001b[0meval_df\u001b[0m\u001b[0;34m[\u001b[0m\u001b[0;34m'age'\u001b[0m\u001b[0;34m]\u001b[0m \u001b[0;34m>\u001b[0m \u001b[0;36m16\u001b[0m\u001b[0;34m]\u001b[0m\u001b[0;34m\u001b[0m\u001b[0;34m\u001b[0m\u001b[0m\n\u001b[0m\u001b[1;32m      3\u001b[0m \u001b[0meval_df\u001b[0m \u001b[0;34m=\u001b[0m \u001b[0meval_df\u001b[0m\u001b[0;34m[\u001b[0m\u001b[0meval_df\u001b[0m\u001b[0;34m[\u001b[0m\u001b[0;34m'age'\u001b[0m\u001b[0;34m]\u001b[0m \u001b[0;34m<\u001b[0m \u001b[0;36m91\u001b[0m\u001b[0;34m]\u001b[0m\u001b[0;34m\u001b[0m\u001b[0;34m\u001b[0m\u001b[0m\n\u001b[1;32m      4\u001b[0m \u001b[0;34m\u001b[0m\u001b[0m\n\u001b[1;32m      5\u001b[0m \u001b[0;31m# drop missing values\u001b[0m\u001b[0;34m\u001b[0m\u001b[0;34m\u001b[0m\u001b[0;34m\u001b[0m\u001b[0m\n",
      "\u001b[0;32m~/opt/anaconda3/envs/tf/lib/python3.7/site-packages/pandas/core/frame.py\u001b[0m in \u001b[0;36m__getitem__\u001b[0;34m(self, key)\u001b[0m\n\u001b[1;32m   3022\u001b[0m             \u001b[0;32mif\u001b[0m \u001b[0mself\u001b[0m\u001b[0;34m.\u001b[0m\u001b[0mcolumns\u001b[0m\u001b[0;34m.\u001b[0m\u001b[0mnlevels\u001b[0m \u001b[0;34m>\u001b[0m \u001b[0;36m1\u001b[0m\u001b[0;34m:\u001b[0m\u001b[0;34m\u001b[0m\u001b[0;34m\u001b[0m\u001b[0m\n\u001b[1;32m   3023\u001b[0m                 \u001b[0;32mreturn\u001b[0m \u001b[0mself\u001b[0m\u001b[0;34m.\u001b[0m\u001b[0m_getitem_multilevel\u001b[0m\u001b[0;34m(\u001b[0m\u001b[0mkey\u001b[0m\u001b[0;34m)\u001b[0m\u001b[0;34m\u001b[0m\u001b[0;34m\u001b[0m\u001b[0m\n\u001b[0;32m-> 3024\u001b[0;31m             \u001b[0mindexer\u001b[0m \u001b[0;34m=\u001b[0m \u001b[0mself\u001b[0m\u001b[0;34m.\u001b[0m\u001b[0mcolumns\u001b[0m\u001b[0;34m.\u001b[0m\u001b[0mget_loc\u001b[0m\u001b[0;34m(\u001b[0m\u001b[0mkey\u001b[0m\u001b[0;34m)\u001b[0m\u001b[0;34m\u001b[0m\u001b[0;34m\u001b[0m\u001b[0m\n\u001b[0m\u001b[1;32m   3025\u001b[0m             \u001b[0;32mif\u001b[0m \u001b[0mis_integer\u001b[0m\u001b[0;34m(\u001b[0m\u001b[0mindexer\u001b[0m\u001b[0;34m)\u001b[0m\u001b[0;34m:\u001b[0m\u001b[0;34m\u001b[0m\u001b[0;34m\u001b[0m\u001b[0m\n\u001b[1;32m   3026\u001b[0m                 \u001b[0mindexer\u001b[0m \u001b[0;34m=\u001b[0m \u001b[0;34m[\u001b[0m\u001b[0mindexer\u001b[0m\u001b[0;34m]\u001b[0m\u001b[0;34m\u001b[0m\u001b[0;34m\u001b[0m\u001b[0m\n",
      "\u001b[0;32m~/opt/anaconda3/envs/tf/lib/python3.7/site-packages/pandas/core/indexes/base.py\u001b[0m in \u001b[0;36mget_loc\u001b[0;34m(self, key, method, tolerance)\u001b[0m\n\u001b[1;32m   3080\u001b[0m                 \u001b[0;32mreturn\u001b[0m \u001b[0mself\u001b[0m\u001b[0;34m.\u001b[0m\u001b[0m_engine\u001b[0m\u001b[0;34m.\u001b[0m\u001b[0mget_loc\u001b[0m\u001b[0;34m(\u001b[0m\u001b[0mcasted_key\u001b[0m\u001b[0;34m)\u001b[0m\u001b[0;34m\u001b[0m\u001b[0;34m\u001b[0m\u001b[0m\n\u001b[1;32m   3081\u001b[0m             \u001b[0;32mexcept\u001b[0m \u001b[0mKeyError\u001b[0m \u001b[0;32mas\u001b[0m \u001b[0merr\u001b[0m\u001b[0;34m:\u001b[0m\u001b[0;34m\u001b[0m\u001b[0;34m\u001b[0m\u001b[0m\n\u001b[0;32m-> 3082\u001b[0;31m                 \u001b[0;32mraise\u001b[0m \u001b[0mKeyError\u001b[0m\u001b[0;34m(\u001b[0m\u001b[0mkey\u001b[0m\u001b[0;34m)\u001b[0m \u001b[0;32mfrom\u001b[0m \u001b[0merr\u001b[0m\u001b[0;34m\u001b[0m\u001b[0;34m\u001b[0m\u001b[0m\n\u001b[0m\u001b[1;32m   3083\u001b[0m \u001b[0;34m\u001b[0m\u001b[0m\n\u001b[1;32m   3084\u001b[0m         \u001b[0;32mif\u001b[0m \u001b[0mtolerance\u001b[0m \u001b[0;32mis\u001b[0m \u001b[0;32mnot\u001b[0m \u001b[0;32mNone\u001b[0m\u001b[0;34m:\u001b[0m\u001b[0;34m\u001b[0m\u001b[0;34m\u001b[0m\u001b[0m\n",
      "\u001b[0;31mKeyError\u001b[0m: 'age'"
     ]
    }
   ],
   "source": [
    "# filter the age range\n",
    "eval_df = eval_df[eval_df['age'] > 16]\n",
    "eval_df = eval_df[eval_df['age'] < 91]\n",
    "\n",
    "# drop missing values\n",
    "eval_df.dropna(inplace=True)"
   ]
  },
  {
   "cell_type": "markdown",
   "metadata": {},
   "source": [
    "You can then compute the statistics again and see the difference in the results."
   ]
  },
  {
   "cell_type": "code",
   "execution_count": 11,
   "metadata": {},
   "outputs": [
    {
     "data": {
      "text/html": [
       "<iframe id='facets-iframe' width=\"100%\" height=\"500px\"></iframe>\n",
       "        <script>\n",
       "        facets_iframe = document.getElementById('facets-iframe');\n",
       "        facets_html = '<script src=\"https://cdnjs.cloudflare.com/ajax/libs/webcomponentsjs/1.3.3/webcomponents-lite.js\"><\\/script><link rel=\"import\" href=\"https://raw.githubusercontent.com/PAIR-code/facets/master/facets-dist/facets-jupyter.html\"><facets-overview proto-input=\"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\"></facets-overview>';\n",
       "        facets_iframe.srcdoc = facets_html;\n",
       "         facets_iframe.id = \"\";\n",
       "         setTimeout(() => {\n",
       "           facets_iframe.setAttribute('height', facets_iframe.contentWindow.document.body.offsetHeight + 'px')\n",
       "         }, 1500)\n",
       "         </script>"
      ],
      "text/plain": [
       "<IPython.core.display.HTML object>"
      ]
     },
     "metadata": {},
     "output_type": "display_data"
    }
   ],
   "source": [
    "# Generate evaluation dataset statistics\n",
    "eval_stats = tfdv.generate_statistics_from_dataframe(eval_df)\n",
    "\n",
    "# Compare training with evaluation\n",
    "tfdv.visualize_statistics(\n",
    "    lhs_statistics=eval_stats, \n",
    "    rhs_statistics=train_stats, \n",
    "    lhs_name='EVAL_DATASET', \n",
    "    rhs_name='TRAIN_DATASET'\n",
    ")"
   ]
  },
  {
   "cell_type": "markdown",
   "metadata": {
    "id": "J3Lvnr-YgPU2"
   },
   "source": [
    "## Calculate and display evaluation anomalies"
   ]
  },
  {
   "cell_type": "markdown",
   "metadata": {
    "id": "D1D9bNcigPU2"
   },
   "source": [
    "You can use your reference schema to check for anomalies such as new values for a specific feature in the evaluation data. Detected anomalies can either be considered a real error that needs to be cleaned, or depending on your domain knowledge and the specific case, they can be accepted. \n",
    "\n",
    "Let's detect and display evaluation anomalies and see if there are any problems that need to be addressed."
   ]
  },
  {
   "cell_type": "code",
   "execution_count": 12,
   "metadata": {
    "id": "OR5dBqpW6ky2"
   },
   "outputs": [
    {
     "data": {
      "text/html": [
       "<div>\n",
       "<style scoped>\n",
       "    .dataframe tbody tr th:only-of-type {\n",
       "        vertical-align: middle;\n",
       "    }\n",
       "\n",
       "    .dataframe tbody tr th {\n",
       "        vertical-align: top;\n",
       "    }\n",
       "\n",
       "    .dataframe thead th {\n",
       "        text-align: right;\n",
       "    }\n",
       "</style>\n",
       "<table border=\"1\" class=\"dataframe\">\n",
       "  <thead>\n",
       "    <tr style=\"text-align: right;\">\n",
       "      <th></th>\n",
       "      <th>Anomaly short description</th>\n",
       "      <th>Anomaly long description</th>\n",
       "    </tr>\n",
       "    <tr>\n",
       "      <th>Feature name</th>\n",
       "      <th></th>\n",
       "      <th></th>\n",
       "    </tr>\n",
       "  </thead>\n",
       "  <tbody>\n",
       "    <tr>\n",
       "      <th>'native-country'</th>\n",
       "      <td>Unexpected string values</td>\n",
       "      <td>Examples contain values missing from the schema: Mongolia (&lt;1%).</td>\n",
       "    </tr>\n",
       "    <tr>\n",
       "      <th>'occupation'</th>\n",
       "      <td>Unexpected string values</td>\n",
       "      <td>Examples contain values missing from the schema: gamer (&lt;1%).</td>\n",
       "    </tr>\n",
       "    <tr>\n",
       "      <th>'race'</th>\n",
       "      <td>Unexpected string values</td>\n",
       "      <td>Examples contain values missing from the schema: Asian (&lt;1%).</td>\n",
       "    </tr>\n",
       "  </tbody>\n",
       "</table>\n",
       "</div>"
      ],
      "text/plain": [
       "                 Anomaly short description  \\\n",
       "Feature name                                 \n",
       "'native-country'  Unexpected string values   \n",
       "'occupation'      Unexpected string values   \n",
       "'race'            Unexpected string values   \n",
       "\n",
       "                                                           Anomaly long description  \n",
       "Feature name                                                                         \n",
       "'native-country'  Examples contain values missing from the schema: Mongolia (<1%).   \n",
       "'occupation'      Examples contain values missing from the schema: gamer (<1%).      \n",
       "'race'            Examples contain values missing from the schema: Asian (<1%).      "
      ]
     },
     "metadata": {},
     "output_type": "display_data"
    }
   ],
   "source": [
    "# Check evaluation data for errors by validating the evaluation dataset statistics using the reference schema\n",
    "anomalies =  tfdv.validate_statistics(statistics=eval_stats, schema=schema)\n",
    "\n",
    "# Visualize anomalies\n",
    "tfdv.display_anomalies(anomalies)"
   ]
  },
  {
   "cell_type": "markdown",
   "metadata": {
    "id": "HeEvhvgqzLu-"
   },
   "source": [
    "## Revising the Schema\n",
    "\n",
    "As shown in the results above, TFDV is able to detect the remaining irregularities we introduced earlier. The short and long descriptions tell us what were detected. As expected, there are string values for `race`, `native-country` and `occupation` that are not found in the domain of the training set schema (you might see a different result if the shuffling of the datasets was applied). What you decide to do about the anomalies depend on your domain knowledge of the data. If an anomaly indicates a data error, then the underlying data should be fixed. Otherwise, you can update the schema to include the values in the evaluation dataset.\n",
    "\n",
    "TFDV provides a set of utility methods and parameters that you can use for revising the inferred schema. This [reference](https://www.tensorflow.org/tfx/data_validation/anomalies) lists down the type of anomalies and the parameters that you can edit but we'll focus only on a couple here.\n",
    "\n",
    "- You can relax the minimum fraction of values that must come from the domain of a particular feature (as described by `ENUM_TYPE_UNEXPECTED_STRING_VALUES` in the [reference](https://www.tensorflow.org/tfx/data_validation/anomalies)):\n",
    "\n",
    "```python\n",
    "tfdv.get_feature(schema, 'feature_column_name').distribution_constraints.min_domain_mass = <float: 0.0 to 1.0>\n",
    "```\n",
    "\n",
    "- You can add a new value to the domain of a particular feature:\n",
    "\n",
    "```python\n",
    "tfdv.get_feature(schema, 'feature_column_name').value.append('string')\n",
    "```\n",
    "\n",
    "Let's use these in the next section."
   ]
  },
  {
   "cell_type": "markdown",
   "metadata": {
    "id": "HKECg6Lf6-ks"
   },
   "source": [
    "## Fix anomalies in the schema\n",
    "\n",
    "Let's say that we want to accept the string anomalies reported as valid. If you want to tolerate a fraction of missing values from the evaluation dataset, you can do it like this:"
   ]
  },
  {
   "cell_type": "code",
   "execution_count": 13,
   "metadata": {},
   "outputs": [],
   "source": [
    "# Relax the minimum fraction of values that must come from the domain for the feature `native-country`\n",
    "country_feature = tfdv.get_feature(schema, 'native-country')\n",
    "country_feature.distribution_constraints.min_domain_mass = 0.9\n",
    "\n",
    "# Relax the minimum fraction of values that must come from the domain for the feature `occupation`\n",
    "occupation_feature = tfdv.get_feature(schema, 'occupation')\n",
    "occupation_feature.distribution_constraints.min_domain_mass = 0.9"
   ]
  },
  {
   "cell_type": "markdown",
   "metadata": {},
   "source": [
    "If you want to be rigid and instead add only valid values to the domain, you can do it like this:"
   ]
  },
  {
   "cell_type": "code",
   "execution_count": 14,
   "metadata": {
    "id": "hTCWS04p6lDh"
   },
   "outputs": [],
   "source": [
    "# Add new value to the domain of the feature `race`\n",
    "race_domain = tfdv.get_domain(schema, 'race')\n",
    "race_domain.value.append('Asian')"
   ]
  },
  {
   "cell_type": "markdown",
   "metadata": {},
   "source": [
    "In addition, you can also restrict the range of a numerical feature. This will let you know of invalid values without having to inspect it visually (e.g. the invalid `age` values earlier)."
   ]
  },
  {
   "cell_type": "code",
   "execution_count": 15,
   "metadata": {},
   "outputs": [
    {
     "data": {
      "text/html": [
       "<div>\n",
       "<style scoped>\n",
       "    .dataframe tbody tr th:only-of-type {\n",
       "        vertical-align: middle;\n",
       "    }\n",
       "\n",
       "    .dataframe tbody tr th {\n",
       "        vertical-align: top;\n",
       "    }\n",
       "\n",
       "    .dataframe thead th {\n",
       "        text-align: right;\n",
       "    }\n",
       "</style>\n",
       "<table border=\"1\" class=\"dataframe\">\n",
       "  <thead>\n",
       "    <tr style=\"text-align: right;\">\n",
       "      <th></th>\n",
       "      <th>Type</th>\n",
       "      <th>Presence</th>\n",
       "      <th>Valency</th>\n",
       "      <th>Domain</th>\n",
       "    </tr>\n",
       "    <tr>\n",
       "      <th>Feature name</th>\n",
       "      <th></th>\n",
       "      <th></th>\n",
       "      <th></th>\n",
       "      <th></th>\n",
       "    </tr>\n",
       "  </thead>\n",
       "  <tbody>\n",
       "    <tr>\n",
       "      <th>'age'</th>\n",
       "      <td>INT</td>\n",
       "      <td>required</td>\n",
       "      <td></td>\n",
       "      <td>[17,90]</td>\n",
       "    </tr>\n",
       "    <tr>\n",
       "      <th>'workclass'</th>\n",
       "      <td>STRING</td>\n",
       "      <td>required</td>\n",
       "      <td></td>\n",
       "      <td>'workclass'</td>\n",
       "    </tr>\n",
       "    <tr>\n",
       "      <th>'fnlwgt'</th>\n",
       "      <td>INT</td>\n",
       "      <td>required</td>\n",
       "      <td></td>\n",
       "      <td>-</td>\n",
       "    </tr>\n",
       "    <tr>\n",
       "      <th>'education'</th>\n",
       "      <td>STRING</td>\n",
       "      <td>required</td>\n",
       "      <td></td>\n",
       "      <td>'education'</td>\n",
       "    </tr>\n",
       "    <tr>\n",
       "      <th>'education-num'</th>\n",
       "      <td>INT</td>\n",
       "      <td>required</td>\n",
       "      <td></td>\n",
       "      <td>-</td>\n",
       "    </tr>\n",
       "    <tr>\n",
       "      <th>'marital-status'</th>\n",
       "      <td>STRING</td>\n",
       "      <td>required</td>\n",
       "      <td></td>\n",
       "      <td>'marital-status'</td>\n",
       "    </tr>\n",
       "    <tr>\n",
       "      <th>'occupation'</th>\n",
       "      <td>STRING</td>\n",
       "      <td>required</td>\n",
       "      <td></td>\n",
       "      <td>'occupation'</td>\n",
       "    </tr>\n",
       "    <tr>\n",
       "      <th>'relationship'</th>\n",
       "      <td>STRING</td>\n",
       "      <td>required</td>\n",
       "      <td></td>\n",
       "      <td>'relationship'</td>\n",
       "    </tr>\n",
       "    <tr>\n",
       "      <th>'race'</th>\n",
       "      <td>STRING</td>\n",
       "      <td>required</td>\n",
       "      <td></td>\n",
       "      <td>'race'</td>\n",
       "    </tr>\n",
       "    <tr>\n",
       "      <th>'sex'</th>\n",
       "      <td>STRING</td>\n",
       "      <td>required</td>\n",
       "      <td></td>\n",
       "      <td>'sex'</td>\n",
       "    </tr>\n",
       "    <tr>\n",
       "      <th>'capital-gain'</th>\n",
       "      <td>INT</td>\n",
       "      <td>required</td>\n",
       "      <td></td>\n",
       "      <td>-</td>\n",
       "    </tr>\n",
       "    <tr>\n",
       "      <th>'capital-loss'</th>\n",
       "      <td>INT</td>\n",
       "      <td>required</td>\n",
       "      <td></td>\n",
       "      <td>-</td>\n",
       "    </tr>\n",
       "    <tr>\n",
       "      <th>'hours-per-week'</th>\n",
       "      <td>INT</td>\n",
       "      <td>required</td>\n",
       "      <td></td>\n",
       "      <td>-</td>\n",
       "    </tr>\n",
       "    <tr>\n",
       "      <th>'native-country'</th>\n",
       "      <td>STRING</td>\n",
       "      <td>required</td>\n",
       "      <td></td>\n",
       "      <td>'native-country'</td>\n",
       "    </tr>\n",
       "    <tr>\n",
       "      <th>'label'</th>\n",
       "      <td>STRING</td>\n",
       "      <td>required</td>\n",
       "      <td></td>\n",
       "      <td>'label'</td>\n",
       "    </tr>\n",
       "  </tbody>\n",
       "</table>\n",
       "</div>"
      ],
      "text/plain": [
       "                    Type  Presence Valency            Domain\n",
       "Feature name                                                \n",
       "'age'             INT     required          [17,90]         \n",
       "'workclass'       STRING  required          'workclass'     \n",
       "'fnlwgt'          INT     required          -               \n",
       "'education'       STRING  required          'education'     \n",
       "'education-num'   INT     required          -               \n",
       "'marital-status'  STRING  required          'marital-status'\n",
       "'occupation'      STRING  required          'occupation'    \n",
       "'relationship'    STRING  required          'relationship'  \n",
       "'race'            STRING  required          'race'          \n",
       "'sex'             STRING  required          'sex'           \n",
       "'capital-gain'    INT     required          -               \n",
       "'capital-loss'    INT     required          -               \n",
       "'hours-per-week'  INT     required          -               \n",
       "'native-country'  STRING  required          'native-country'\n",
       "'label'           STRING  required          'label'         "
      ]
     },
     "metadata": {},
     "output_type": "display_data"
    },
    {
     "data": {
      "text/html": [
       "<div>\n",
       "<style scoped>\n",
       "    .dataframe tbody tr th:only-of-type {\n",
       "        vertical-align: middle;\n",
       "    }\n",
       "\n",
       "    .dataframe tbody tr th {\n",
       "        vertical-align: top;\n",
       "    }\n",
       "\n",
       "    .dataframe thead th {\n",
       "        text-align: right;\n",
       "    }\n",
       "</style>\n",
       "<table border=\"1\" class=\"dataframe\">\n",
       "  <thead>\n",
       "    <tr style=\"text-align: right;\">\n",
       "      <th></th>\n",
       "      <th>Values</th>\n",
       "    </tr>\n",
       "    <tr>\n",
       "      <th>Domain</th>\n",
       "      <th></th>\n",
       "    </tr>\n",
       "  </thead>\n",
       "  <tbody>\n",
       "    <tr>\n",
       "      <th>'workclass'</th>\n",
       "      <td>'?', 'Federal-gov', 'Local-gov', 'Never-worked', 'Private', 'Self-emp-inc', 'Self-emp-not-inc', 'State-gov', 'Without-pay'</td>\n",
       "    </tr>\n",
       "    <tr>\n",
       "      <th>'education'</th>\n",
       "      <td>'10th', '11th', '12th', '1st-4th', '5th-6th', '7th-8th', '9th', 'Assoc-acdm', 'Assoc-voc', 'Bachelors', 'Doctorate', 'HS-grad', 'Masters', 'Preschool', 'Prof-school', 'Some-college'</td>\n",
       "    </tr>\n",
       "    <tr>\n",
       "      <th>'marital-status'</th>\n",
       "      <td>'Divorced', 'Married-AF-spouse', 'Married-civ-spouse', 'Married-spouse-absent', 'Never-married', 'Separated', 'Widowed'</td>\n",
       "    </tr>\n",
       "    <tr>\n",
       "      <th>'occupation'</th>\n",
       "      <td>'?', 'Adm-clerical', 'Armed-Forces', 'Craft-repair', 'Exec-managerial', 'Farming-fishing', 'Handlers-cleaners', 'Machine-op-inspct', 'Other-service', 'Priv-house-serv', 'Prof-specialty', 'Protective-serv', 'Sales', 'Tech-support', 'Transport-moving'</td>\n",
       "    </tr>\n",
       "    <tr>\n",
       "      <th>'relationship'</th>\n",
       "      <td>'Husband', 'Not-in-family', 'Other-relative', 'Own-child', 'Unmarried', 'Wife'</td>\n",
       "    </tr>\n",
       "    <tr>\n",
       "      <th>'race'</th>\n",
       "      <td>'Amer-Indian-Eskimo', 'Asian-Pac-Islander', 'Black', 'Other', 'White', 'Asian'</td>\n",
       "    </tr>\n",
       "    <tr>\n",
       "      <th>'sex'</th>\n",
       "      <td>'Female', 'Male'</td>\n",
       "    </tr>\n",
       "    <tr>\n",
       "      <th>'native-country'</th>\n",
       "      <td>'?', 'Cambodia', 'Canada', 'China', 'Columbia', 'Cuba', 'Dominican-Republic', 'Ecuador', 'El-Salvador', 'England', 'France', 'Germany', 'Greece', 'Guatemala', 'Haiti', 'Holand-Netherlands', 'Honduras', 'Hong', 'Hungary', 'India', 'Iran', 'Ireland', 'Italy', 'Jamaica', 'Japan', 'Laos', 'Mexico', 'Nicaragua', 'Outlying-US(Guam-USVI-etc)', 'Peru', 'Philippines', 'Poland', 'Portugal', 'Puerto-Rico', 'Scotland', 'South', 'Taiwan', 'Thailand', 'Trinadad&amp;Tobago', 'United-States', 'Vietnam', 'Yugoslavia'</td>\n",
       "    </tr>\n",
       "    <tr>\n",
       "      <th>'label'</th>\n",
       "      <td>'&lt;=50K', '&gt;50K'</td>\n",
       "    </tr>\n",
       "  </tbody>\n",
       "</table>\n",
       "</div>"
      ],
      "text/plain": [
       "                                                                                                                                                                                                                                                                                                                                                                                                                                                                                                                                 Values\n",
       "Domain                                                                                                                                                                                                                                                                                                                                                                                                                                                                                                                                 \n",
       "'workclass'       '?', 'Federal-gov', 'Local-gov', 'Never-worked', 'Private', 'Self-emp-inc', 'Self-emp-not-inc', 'State-gov', 'Without-pay'                                                                                                                                                                                                                                                                                                                                                                                           \n",
       "'education'       '10th', '11th', '12th', '1st-4th', '5th-6th', '7th-8th', '9th', 'Assoc-acdm', 'Assoc-voc', 'Bachelors', 'Doctorate', 'HS-grad', 'Masters', 'Preschool', 'Prof-school', 'Some-college'                                                                                                                                                                                                                                                                                                                                \n",
       "'marital-status'  'Divorced', 'Married-AF-spouse', 'Married-civ-spouse', 'Married-spouse-absent', 'Never-married', 'Separated', 'Widowed'                                                                                                                                                                                                                                                                                                                                                                                              \n",
       "'occupation'      '?', 'Adm-clerical', 'Armed-Forces', 'Craft-repair', 'Exec-managerial', 'Farming-fishing', 'Handlers-cleaners', 'Machine-op-inspct', 'Other-service', 'Priv-house-serv', 'Prof-specialty', 'Protective-serv', 'Sales', 'Tech-support', 'Transport-moving'                                                                                                                                                                                                                                                            \n",
       "'relationship'    'Husband', 'Not-in-family', 'Other-relative', 'Own-child', 'Unmarried', 'Wife'                                                                                                                                                                                                                                                                                                                                                                                                                                       \n",
       "'race'            'Amer-Indian-Eskimo', 'Asian-Pac-Islander', 'Black', 'Other', 'White', 'Asian'                                                                                                                                                                                                                                                                                                                                                                                                                                       \n",
       "'sex'             'Female', 'Male'                                                                                                                                                                                                                                                                                                                                                                                                                                                                                                     \n",
       "'native-country'  '?', 'Cambodia', 'Canada', 'China', 'Columbia', 'Cuba', 'Dominican-Republic', 'Ecuador', 'El-Salvador', 'England', 'France', 'Germany', 'Greece', 'Guatemala', 'Haiti', 'Holand-Netherlands', 'Honduras', 'Hong', 'Hungary', 'India', 'Iran', 'Ireland', 'Italy', 'Jamaica', 'Japan', 'Laos', 'Mexico', 'Nicaragua', 'Outlying-US(Guam-USVI-etc)', 'Peru', 'Philippines', 'Poland', 'Portugal', 'Puerto-Rico', 'Scotland', 'South', 'Taiwan', 'Thailand', 'Trinadad&Tobago', 'United-States', 'Vietnam', 'Yugoslavia'\n",
       "'label'           '<=50K', '>50K'                                                                                                                                                                                                                                                                                                                                                                                                                                                                                                      "
      ]
     },
     "metadata": {},
     "output_type": "display_data"
    }
   ],
   "source": [
    "# Restrict the range of the `age` feature\n",
    "tfdv.set_domain(schema, 'age', schema_pb2.IntDomain(name='age', min=17, max=90))\n",
    "\n",
    "# Display the modified schema. Notice the `Domain` column of `age`.\n",
    "tfdv.display_schema(schema)"
   ]
  },
  {
   "cell_type": "markdown",
   "metadata": {},
   "source": [
    "With these revisions, running the validation should now show no anomalies."
   ]
  },
  {
   "cell_type": "code",
   "execution_count": null,
   "metadata": {},
   "outputs": [],
   "source": [
    "# Validate eval stats after updating the schema \n",
    "updated_anomalies = tfdv.validate_statistics(eval_stats, schema)\n",
    "tfdv.display_anomalies(updated_anomalies)"
   ]
  },
  {
   "cell_type": "markdown",
   "metadata": {},
   "source": [
    "## Examining dataset slices\n",
    "\n",
    "TFDV also allows you to analyze specific slices of your dataset. This is particularly useful if you want to inspect if a feature type is well-represented in your dataset. Let's walk through an example where we want to compare the statistics for male and female participants."
   ]
  },
  {
   "cell_type": "markdown",
   "metadata": {},
   "source": [
    "First, you will use the [`get_feature_value_slicer`](https://github.com/tensorflow/data-validation/blob/master/tensorflow_data_validation/utils/slicing_util.py#L48) method from the `slicing_util` to get the features you want to examine. You can specify that by passing a dictionary to the `features` argument. If you want to get the entire domain of a feature, then you can map the feature name with `None` as shown below. This means that you will get slices for both `Male` and `Female` entries. This returns a function that can be used to extract the said feature slice."
   ]
  },
  {
   "cell_type": "code",
   "execution_count": 16,
   "metadata": {},
   "outputs": [],
   "source": [
    "from tensorflow_data_validation.utils import slicing_util\n",
    "\n",
    "slice_fn = slicing_util.get_feature_value_slicer(features={'sex': None})"
   ]
  },
  {
   "cell_type": "markdown",
   "metadata": {},
   "source": [
    "With the slice function ready, you can now generate the statistics. You need to tell TFDV that you need statistics for the features you set and you can do that through the `slice_functions` argument of [`tfdv.StatsOptions`](https://www.tensorflow.org/tfx/data_validation/api_docs/python/tfdv/StatsOptions). Let's prepare that in the cell below. Notice that you also need to pass in the schema."
   ]
  },
  {
   "cell_type": "code",
   "execution_count": 17,
   "metadata": {},
   "outputs": [],
   "source": [
    "# Declare stats options\n",
    "slice_stats_options = tfdv.StatsOptions(schema=schema,\n",
    "                                        slice_functions=[slice_fn],\n",
    "                                        infer_type_from_schema=True)"
   ]
  },
  {
   "cell_type": "markdown",
   "metadata": {},
   "source": [
    "You will then pass these options to the `generate_statistics_from_csv()` method. As of writing, generating sliced statistics only works for CSVs so you will need to convert the Pandas dataframe to a CSV. Passing the `slice_stats_options` to `generate_statistics_from_dataframe()` will not produce the expected results."
   ]
  },
  {
   "cell_type": "code",
   "execution_count": 18,
   "metadata": {},
   "outputs": [
    {
     "data": {
      "application/javascript": [
       "\n",
       "        if (typeof window.interactive_beam_jquery == 'undefined') {\n",
       "          var jqueryScript = document.createElement('script');\n",
       "          jqueryScript.src = 'https://code.jquery.com/jquery-3.4.1.slim.min.js';\n",
       "          jqueryScript.type = 'text/javascript';\n",
       "          jqueryScript.onload = function() {\n",
       "            var datatableScript = document.createElement('script');\n",
       "            datatableScript.src = 'https://cdn.datatables.net/1.10.20/js/jquery.dataTables.min.js';\n",
       "            datatableScript.type = 'text/javascript';\n",
       "            datatableScript.onload = function() {\n",
       "              window.interactive_beam_jquery = jQuery.noConflict(true);\n",
       "              window.interactive_beam_jquery(document).ready(function($){\n",
       "                \n",
       "              });\n",
       "            }\n",
       "            document.head.appendChild(datatableScript);\n",
       "          };\n",
       "          document.head.appendChild(jqueryScript);\n",
       "        } else {\n",
       "          window.interactive_beam_jquery(document).ready(function($){\n",
       "            \n",
       "          });\n",
       "        }"
      ]
     },
     "metadata": {},
     "output_type": "display_data"
    },
    {
     "name": "stdout",
     "output_type": "stream",
     "text": [
      "WARNING:tensorflow:From /opt/conda/lib/python3.8/site-packages/tensorflow_data_validation/utils/stats_util.py:229: tf_record_iterator (from tensorflow.python.lib.io.tf_record) is deprecated and will be removed in a future version.\n",
      "Instructions for updating:\n",
      "Use eager execution and: \n",
      "`tf.data.TFRecordDataset(path)`\n"
     ]
    },
    {
     "name": "stderr",
     "output_type": "stream",
     "text": [
      "WARNING:tensorflow:From /opt/conda/lib/python3.8/site-packages/tensorflow_data_validation/utils/stats_util.py:229: tf_record_iterator (from tensorflow.python.lib.io.tf_record) is deprecated and will be removed in a future version.\n",
      "Instructions for updating:\n",
      "Use eager execution and: \n",
      "`tf.data.TFRecordDataset(path)`\n"
     ]
    }
   ],
   "source": [
    "# Convert dataframe to CSV since `slice_functions` works only with `tfdv.generate_statistics_from_csv`\n",
    "CSV_PATH = 'slice_sample.csv'\n",
    "train_df.to_csv(CSV_PATH)\n",
    "\n",
    "# Calculate statistics for the sliced dataset\n",
    "sliced_stats = tfdv.generate_statistics_from_csv(CSV_PATH, stats_options=slice_stats_options)"
   ]
  },
  {
   "cell_type": "markdown",
   "metadata": {},
   "source": [
    "With that, you now have the statistics for the set slice. These are packed into a `DatasetFeatureStatisticsList` protocol buffer. You can see the dataset names below. The first element in the list (i.e. index=0) is named `All_Examples` which just contains the statistics for the entire dataset. The next two elements (i.e. named `sex_Male` and `sex_Female`) are the datasets that contain the stats for the slices. It is important to note that these datasets are of the type: `DatasetFeatureStatistics`. You will see why this is important after the cell below."
   ]
  },
  {
   "cell_type": "code",
   "execution_count": 19,
   "metadata": {},
   "outputs": [
    {
     "name": "stdout",
     "output_type": "stream",
     "text": [
      "Datasets generated: ['All Examples', 'sex_Male', 'sex_Female']\n",
      "Type of sliced_stats elements: <class 'tensorflow_metadata.proto.v0.statistics_pb2.DatasetFeatureStatistics'>\n"
     ]
    }
   ],
   "source": [
    "print(f'Datasets generated: {[sliced.name for sliced in sliced_stats.datasets]}')\n",
    "\n",
    "print(f'Type of sliced_stats elements: {type(sliced_stats.datasets[0])}')"
   ]
  },
  {
   "cell_type": "markdown",
   "metadata": {},
   "source": [
    "You can then visualize the statistics as before to examine the slices. An important caveat is `visualize_statistics()` accepts a `DatasetFeatureStatisticsList` type instead of `DatasetFeatureStatistics`. Thus, at least for this version of TFDV, you will need to convert it to the correct type."
   ]
  },
  {
   "cell_type": "code",
   "execution_count": 20,
   "metadata": {},
   "outputs": [
    {
     "data": {
      "text/html": [
       "<iframe id='facets-iframe' width=\"100%\" height=\"500px\"></iframe>\n",
       "        <script>\n",
       "        facets_iframe = document.getElementById('facets-iframe');\n",
       "        facets_html = '<script src=\"https://cdnjs.cloudflare.com/ajax/libs/webcomponentsjs/1.3.3/webcomponents-lite.js\"><\\/script><link rel=\"import\" href=\"https://raw.githubusercontent.com/PAIR-code/facets/master/facets-dist/facets-jupyter.html\"><facets-overview proto-input=\"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\"></facets-overview>';\n",
       "        facets_iframe.srcdoc = facets_html;\n",
       "         facets_iframe.id = \"\";\n",
       "         setTimeout(() => {\n",
       "           facets_iframe.setAttribute('height', facets_iframe.contentWindow.document.body.offsetHeight + 'px')\n",
       "         }, 1500)\n",
       "         </script>"
      ],
      "text/plain": [
       "<IPython.core.display.HTML object>"
      ]
     },
     "metadata": {},
     "output_type": "display_data"
    }
   ],
   "source": [
    "from tensorflow_metadata.proto.v0.statistics_pb2 import DatasetFeatureStatisticsList\n",
    "\n",
    "# Convert `Male` statistics (index=1) to the correct type and get the dataset name\n",
    "male_stats_list = DatasetFeatureStatisticsList()\n",
    "male_stats_list.datasets.extend([sliced_stats.datasets[1]])\n",
    "male_stats_name = sliced_stats.datasets[1].name\n",
    "\n",
    "# Convert `Female` statistics (index=2) to the correct type and get the dataset name\n",
    "female_stats_list = DatasetFeatureStatisticsList()\n",
    "female_stats_list.datasets.extend([sliced_stats.datasets[2]])\n",
    "female_stats_name = sliced_stats.datasets[2].name\n",
    "\n",
    "# Visualize the two slices side by side\n",
    "tfdv.visualize_statistics(\n",
    "    lhs_statistics=male_stats_list,\n",
    "    rhs_statistics=female_stats_list,\n",
    "    lhs_name=male_stats_name,\n",
    "    rhs_name=female_stats_name\n",
    ")"
   ]
  },
  {
   "cell_type": "markdown",
   "metadata": {},
   "source": [
    "You should now see the visualization of the two slices and you can compare how they are represented in the dataset. \n",
    "\n",
    "We encourage you to go back to the beginning of this section and try different slices. Here are other ways you can explore:\n",
    "\n",
    "* If you want to be more specific, then you can map the specific value to the feature name. For example, if you want just `Male`, then you can declare it as `features={'sex': [b'Male']}`. Notice that the string literal needs to be passed in as bytes with the `b'` prefix.\n",
    "\n",
    "* You can also pass in several features if you want. For example, if you want to slice through both the `sex` and `race` features, then you can do `features={'sex': None, 'race': None}`.\n",
    "\n",
    "You might find it cumbersome or inefficient to redo the whole process for a particular slice. For that, you can make helper functions to streamline the type conversions and you will see one implementation in this week's assignment."
   ]
  },
  {
   "cell_type": "markdown",
   "metadata": {
    "id": "YY812jDDgPU3"
   },
   "source": [
    "## Wrap up\n",
    "\n",
    "This exercise demonstrated how you would use Tensorflow Data Validation in a machine learning project.\n",
    "\n",
    "* It allows you to scale the computation of statistics over datasets.\n",
    "\n",
    "* You can infer the schema of a given dataset and revise it based on your domain knowledge. \n",
    "\n",
    "* You can inspect discrepancies between the training and evaluation datasets by visualizing the statistics and detecting anomalies.\n",
    "\n",
    "* You can analyze specific slices of your dataset.\n",
    "\n",
    "You can consult this notebook in this week's programming assignment as well as these additional resources:\n",
    "\n",
    "* [TFDV Guide](https://www.tensorflow.org/tfx/data_validation/get_started) \n",
    "* [TFDV blog post](https://blog.tensorflow.org/2018/09/introducing-tensorflow-data-validation.html)\n",
    "* [Tensorflow Official Tutorial](https://colab.research.google.com/github/tensorflow/tfx/blob/master/docs/tutorials/data_validation/tfdv_basic.ipynb#scrollTo=mPt5BHTwy_0F)\n",
    "* [API Docs](https://www.tensorflow.org/tfx/data_validation/api_docs/python/tfdv)"
   ]
  }
 ],
 "metadata": {
  "colab": {
   "collapsed_sections": [],
   "name": "C2_W1_Lab_1_TFDV_Exercise.ipynb",
   "provenance": []
  },
  "kernelspec": {
   "name": "python3",
   "display_name": "Python 3.7.10 64-bit ('tf': conda)"
  },
  "language_info": {
   "codemirror_mode": {
    "name": "ipython",
    "version": 3
   },
   "file_extension": ".py",
   "mimetype": "text/x-python",
   "name": "python",
   "nbconvert_exporter": "python",
   "pygments_lexer": "ipython3",
   "version": "3.7.10"
  },
  "interpreter": {
   "hash": "cf58adf281c1109bb77a891a75331c6a35e06bb3b54dcea0b3d7f126e25a2a09"
  }
 },
 "nbformat": 4,
 "nbformat_minor": 1
}